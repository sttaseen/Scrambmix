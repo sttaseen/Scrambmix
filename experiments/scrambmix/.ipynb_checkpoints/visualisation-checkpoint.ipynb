{
 "cells": [
  {
   "cell_type": "markdown",
   "id": "1f6696d1",
   "metadata": {},
   "source": [
    "## Imports"
   ]
  },
  {
   "cell_type": "code",
   "execution_count": 1,
   "id": "31c5a298",
   "metadata": {},
   "outputs": [
    {
     "name": "stderr",
     "output_type": "stream",
     "text": [
      "/home/sadat/miniconda3/envs/mmsign/lib/python3.8/site-packages/tqdm/auto.py:21: TqdmWarning: IProgress not found. Please update jupyter and ipywidgets. See https://ipywidgets.readthedocs.io/en/stable/user_install.html\n",
      "  from .autonotebook import tqdm as notebook_tqdm\n",
      "/home/sadat/miniconda3/envs/mmsign/lib/python3.8/site-packages/mmcv/__init__.py:20: UserWarning: On January 1, 2023, MMCV will release v2.0.0, in which it will remove components related to the training process and add a data transformation module. In addition, it will rename the package names mmcv to mmcv-lite and mmcv-full to mmcv. See https://github.com/open-mmlab/mmcv/blob/master/docs/en/compatibility.md for more details.\n",
      "  warnings.warn(\n"
     ]
    }
   ],
   "source": [
    "import os\n",
    "import matplotlib.pyplot as plt\n",
    "import torch\n",
    "import numpy as np\n",
    "\n",
    "from mmaction.datasets import MixupBlending\n",
    "from dataset import MultiModalDataset"
   ]
  },
  {
   "cell_type": "markdown",
   "id": "ef7b7102",
   "metadata": {},
   "source": [
    "## Function for saving videos"
   ]
  },
  {
   "cell_type": "code",
   "execution_count": 2,
   "id": "e7f3b500",
   "metadata": {},
   "outputs": [],
   "source": [
    "\"\"\"Function to save videos in ./outputs.\n",
    "\n",
    "Args:\n",
    "    video_tensor (Tensor): The video tensor in BNCTHW format.\n",
    "    index (int): The video index in the batch. Default: 0.\n",
    "\"\"\"\n",
    "def output_video(video_tensor, index=0):\n",
    "    os.makedirs('output', exist_ok=True)\n",
    "    for i, np_image in enumerate(video_tensor[index].squeeze().permute(1,2,3,0)):\n",
    "        print(np_image.shape)\n",
    "        img_array = np.array(np_image.numpy())\n",
    "        plt.imshow(img_array)\n",
    "        plt.axis('off')  # Turn off axis labels and ticks\n",
    "\n",
    "        # Save the image using plt.savefig()\n",
    "        output_path = f\"output/{i}.jpg\"\n",
    "        plt.savefig(output_path, bbox_inches='tight', pad_inches=0, dpi=300)"
   ]
  },
  {
   "cell_type": "markdown",
   "id": "f5f3cec5",
   "metadata": {},
   "source": [
    "## Loading batches"
   ]
  },
  {
   "cell_type": "code",
   "execution_count": 3,
   "id": "8fcef103",
   "metadata": {},
   "outputs": [],
   "source": [
    "dataset = MultiModalDataset(ann_file='../../data/autsl/train_annotations.txt',\n",
    "                            root_dir='../../data/autsl/rawframes',\n",
    "                            clip_len=32,\n",
    "                            resolution=512,\n",
    "                            modalities=('rgb'),\n",
    "                            test_mode=False,\n",
    "                            frame_interval=1,\n",
    "                            input_resolution=512,\n",
    "                            num_clips=1\n",
    "                            )"
   ]
  },
  {
   "cell_type": "code",
   "execution_count": 4,
   "id": "cd135438",
   "metadata": {},
   "outputs": [],
   "source": [
    "train_loader = torch.utils.data.DataLoader(dataset=dataset,\n",
    "                                                batch_size=4,\n",
    "                                                shuffle=True,\n",
    "                                                num_workers=4,\n",
    "                                                pin_memory=True)"
   ]
  },
  {
   "cell_type": "code",
   "execution_count": 5,
   "id": "5f160847",
   "metadata": {},
   "outputs": [],
   "source": [
    "iter_ = iter(train_loader)"
   ]
  },
  {
   "cell_type": "code",
   "execution_count": 64,
   "id": "09876a12",
   "metadata": {},
   "outputs": [
    {
     "data": {
      "text/plain": [
       "torch.Size([4, 1, 3, 32, 512, 512])"
      ]
     },
     "execution_count": 64,
     "metadata": {},
     "output_type": "execute_result"
    }
   ],
   "source": [
    "result = next(iter_)\n",
    "imgs = result['rgb'].unsqueeze(dim=1)\n",
    "labels = result['label'].unsqueeze(dim=1)\n",
    "imgs.shape"
   ]
  },
  {
   "cell_type": "markdown",
   "id": "53f83bf9",
   "metadata": {},
   "source": [
    "## Cutmix Output"
   ]
  },
  {
   "cell_type": "code",
   "execution_count": null,
   "id": "7bf80d1e",
   "metadata": {},
   "outputs": [],
   "source": [
    "from mmaction.datasets import CutmixBlending\n",
    "\n",
    "cutmix = CutmixBlending(num_classes=226)\n",
    "\n",
    "mixed_imgs, mixed_label = cutmix.do_blending(imgs, labels)\n",
    "output_video(mixed_imgs, 1)"
   ]
  },
  {
   "cell_type": "markdown",
   "id": "a7041500",
   "metadata": {},
   "source": [
    "## Scrambmix v3"
   ]
  },
  {
   "cell_type": "code",
   "execution_count": 7,
   "id": "8855e598",
   "metadata": {},
   "outputs": [],
   "source": [
    "from scipy import stats\n",
    "\n",
    "class Scrambmixv3():\n",
    "    \"\"\"Implementing Scrambmix in a mini-batch.\n",
    "\n",
    "    Args:\n",
    "        num_classes (int): The number of classes.\n",
    "        num_frames (int): The number of frames.\n",
    "        alpha (float): Parameters for Beta Binomial distribution.\n",
    "    \"\"\"\n",
    "\n",
    "    def __init__(self, num_classes, num_frames, alpha=5):\n",
    "        self.num_frames = num_frames\n",
    "        self.beta_binom = stats.betabinom(num_frames-1, alpha, alpha, loc=0)\n",
    "        \n",
    "    def rand_bbox(self, img_size, lam):\n",
    "        \"\"\"Generate a random boudning box.\"\"\"\n",
    "        w = img_size[-1]\n",
    "        h = img_size[-2]\n",
    "        cut_rat = torch.sqrt(1. - lam)\n",
    "        cut_w = torch.tensor(int(w * cut_rat))\n",
    "        cut_h = torch.tensor(int(h * cut_rat))\n",
    "\n",
    "        # This is uniform\n",
    "        cx = torch.randint(w, (1, ))[0]\n",
    "        cy = torch.randint(h, (1, ))[0]\n",
    "\n",
    "        bbx1 = torch.clamp(cx - cut_w // 2, 0, w)\n",
    "        bby1 = torch.clamp(cy - cut_h // 2, 0, h)\n",
    "        bbx2 = torch.clamp(cx + cut_w // 2, 0, w)\n",
    "        bby2 = torch.clamp(cy + cut_h // 2, 0, h)\n",
    "\n",
    "        return bbx1, bby1, bbx2, bby2\n",
    "\n",
    "    def do_blending(self, imgs, label, **kwargs):\n",
    "        \"\"\"Blending images with scrambmix.\"\"\"\n",
    "\n",
    "        assert len(kwargs) == 0, f'unexpected kwargs for mixup {kwargs}'\n",
    "\n",
    "        batch_size = imgs.size(0)\n",
    "        \n",
    "        epsilon = self.beta_binom.rvs() + 1\n",
    "        interval = round(self.num_frames/epsilon)\n",
    "        lam = torch.tensor(1/interval)\n",
    "        rand_index = torch.randperm(batch_size)\n",
    "\n",
    "        mask = torch.arange(self.num_frames) % interval == 0\n",
    "        bbx1, bby1, bbx2, bby2 = rand_bbox(imgs.size(), lam)\n",
    "\n",
    "        A = imgs\n",
    "        B = A.clone()[rand_index, ...]\n",
    "        \n",
    "        # Apply the masks\n",
    "        A[..., ~mask, bby1:bby2, bbx1:bbx2], B[..., mask, bby1:bby2, bbx1:bbx2] = \\\n",
    "        B[..., ~mask, bby1:bby2, bbx1:bbx2], A[..., mask, bby1:bby2, bbx1:bbx2]\n",
    "        \n",
    "        A[..., mask, :, :] = 0\n",
    "        B[..., ~mask, :, :] = 0\n",
    "        \n",
    "        # MixUp the frames and encodings\n",
    "        mixed_imgs = A + B\n",
    "        mixed_label = (1 - lam) * label +  lam * label[rand_index, :]\n",
    "\n",
    "        return mixed_imgs, mixed_label"
   ]
  },
  {
   "cell_type": "code",
   "execution_count": 60,
   "id": "81b2fafd",
   "metadata": {},
   "outputs": [],
   "source": [
    "def rand_bbox(img_size, lam):\n",
    "    \"\"\"Generate a random boudning box.\"\"\"\n",
    "    w = img_size[-1]\n",
    "    h = img_size[-2]\n",
    "    cut_rat = torch.sqrt(1. - lam)\n",
    "    cut_w = torch.tensor(int(w * cut_rat))\n",
    "    cut_h = torch.tensor(int(h * cut_rat))\n",
    "\n",
    "    # uniform\n",
    "    cx = torch.randint(w, (1, ))[0]\n",
    "    cy = torch.randint(h, (1, ))[0]\n",
    "\n",
    "    bbx1 = torch.clamp(cx - cut_w // 2, 0, w)\n",
    "    bby1 = torch.clamp(cy - cut_h // 2, 0, h)\n",
    "    bbx2 = torch.clamp(cx + cut_w // 2, 0, w)\n",
    "    bby2 = torch.clamp(cy + cut_h // 2, 0, h)\n",
    "\n",
    "    return bbx1, bby1, bbx2, bby2"
   ]
  },
  {
   "cell_type": "code",
   "execution_count": 8,
   "id": "3b7f60ff",
   "metadata": {},
   "outputs": [],
   "source": [
    "scrambmixv3 = Scrambmixv3(num_classes=226, num_frames=32)\n",
    "\n",
    "mixed_imgs, mixed_label = scrambmixv3.do_blending(imgs, labels)\n"
   ]
  },
  {
   "cell_type": "code",
   "execution_count": 65,
   "id": "85adbdac",
   "metadata": {},
   "outputs": [],
   "source": [
    "batch_size = imgs.size(0)\n",
    "num_frames = 32\n",
    "epsilon = 7 + 1\n",
    "interval = round(num_frames/epsilon)\n",
    "lam = torch.tensor(1/interval)\n",
    "rand_index = torch.randperm(batch_size)\n",
    "\n",
    "mask = torch.arange(num_frames) % interval == 0\n",
    "\n",
    "bbx1, bby1, bbx2, bby2 = rand_bbox(imgs.size(), lam)"
   ]
  },
  {
   "cell_type": "code",
   "execution_count": 67,
   "id": "2f240cdf",
   "metadata": {},
   "outputs": [],
   "source": [
    "A = imgs\n",
    "B = A.clone()[rand_index, ...]"
   ]
  },
  {
   "cell_type": "code",
   "execution_count": 68,
   "id": "27102a64",
   "metadata": {},
   "outputs": [],
   "source": [
    "A[..., ~mask, bby1:bby2, bbx1:bbx2], B[..., mask, bby1:bby2, bbx1:bbx2]= B[..., ~mask, bby1:bby2, bbx1:bbx2], A[..., mask, bby1:bby2, bbx1:bbx2]"
   ]
  },
  {
   "cell_type": "code",
   "execution_count": 69,
   "id": "ad15ab93",
   "metadata": {},
   "outputs": [],
   "source": [
    "A[..., mask, :, :] = 0\n",
    "B[..., ~mask, :, :] = 0"
   ]
  },
  {
   "cell_type": "code",
   "execution_count": 70,
   "id": "f61431c2",
   "metadata": {
    "scrolled": true
   },
   "outputs": [
    {
     "name": "stderr",
     "output_type": "stream",
     "text": [
      "Clipping input data to the valid range for imshow with RGB data ([0..1] for floats or [0..255] for integers).\n",
      "Clipping input data to the valid range for imshow with RGB data ([0..1] for floats or [0..255] for integers).\n"
     ]
    },
    {
     "name": "stdout",
     "output_type": "stream",
     "text": [
      "torch.Size([512, 512, 3])\n",
      "torch.Size([512, 512, 3])\n"
     ]
    },
    {
     "name": "stderr",
     "output_type": "stream",
     "text": [
      "Clipping input data to the valid range for imshow with RGB data ([0..1] for floats or [0..255] for integers).\n"
     ]
    },
    {
     "name": "stdout",
     "output_type": "stream",
     "text": [
      "torch.Size([512, 512, 3])\n"
     ]
    },
    {
     "name": "stderr",
     "output_type": "stream",
     "text": [
      "Clipping input data to the valid range for imshow with RGB data ([0..1] for floats or [0..255] for integers).\n"
     ]
    },
    {
     "name": "stdout",
     "output_type": "stream",
     "text": [
      "torch.Size([512, 512, 3])\n"
     ]
    },
    {
     "name": "stderr",
     "output_type": "stream",
     "text": [
      "Clipping input data to the valid range for imshow with RGB data ([0..1] for floats or [0..255] for integers).\n"
     ]
    },
    {
     "name": "stdout",
     "output_type": "stream",
     "text": [
      "torch.Size([512, 512, 3])\n"
     ]
    },
    {
     "name": "stderr",
     "output_type": "stream",
     "text": [
      "Clipping input data to the valid range for imshow with RGB data ([0..1] for floats or [0..255] for integers).\n"
     ]
    },
    {
     "name": "stdout",
     "output_type": "stream",
     "text": [
      "torch.Size([512, 512, 3])\n"
     ]
    },
    {
     "name": "stderr",
     "output_type": "stream",
     "text": [
      "Clipping input data to the valid range for imshow with RGB data ([0..1] for floats or [0..255] for integers).\n"
     ]
    },
    {
     "name": "stdout",
     "output_type": "stream",
     "text": [
      "torch.Size([512, 512, 3])\n"
     ]
    },
    {
     "name": "stderr",
     "output_type": "stream",
     "text": [
      "Clipping input data to the valid range for imshow with RGB data ([0..1] for floats or [0..255] for integers).\n"
     ]
    },
    {
     "name": "stdout",
     "output_type": "stream",
     "text": [
      "torch.Size([512, 512, 3])\n"
     ]
    },
    {
     "name": "stderr",
     "output_type": "stream",
     "text": [
      "Clipping input data to the valid range for imshow with RGB data ([0..1] for floats or [0..255] for integers).\n"
     ]
    },
    {
     "name": "stdout",
     "output_type": "stream",
     "text": [
      "torch.Size([512, 512, 3])\n"
     ]
    },
    {
     "name": "stderr",
     "output_type": "stream",
     "text": [
      "Clipping input data to the valid range for imshow with RGB data ([0..1] for floats or [0..255] for integers).\n"
     ]
    },
    {
     "name": "stdout",
     "output_type": "stream",
     "text": [
      "torch.Size([512, 512, 3])\n"
     ]
    },
    {
     "name": "stderr",
     "output_type": "stream",
     "text": [
      "Clipping input data to the valid range for imshow with RGB data ([0..1] for floats or [0..255] for integers).\n"
     ]
    },
    {
     "name": "stdout",
     "output_type": "stream",
     "text": [
      "torch.Size([512, 512, 3])\n"
     ]
    },
    {
     "name": "stderr",
     "output_type": "stream",
     "text": [
      "Clipping input data to the valid range for imshow with RGB data ([0..1] for floats or [0..255] for integers).\n"
     ]
    },
    {
     "name": "stdout",
     "output_type": "stream",
     "text": [
      "torch.Size([512, 512, 3])\n"
     ]
    },
    {
     "name": "stderr",
     "output_type": "stream",
     "text": [
      "Clipping input data to the valid range for imshow with RGB data ([0..1] for floats or [0..255] for integers).\n"
     ]
    },
    {
     "name": "stdout",
     "output_type": "stream",
     "text": [
      "torch.Size([512, 512, 3])\n"
     ]
    },
    {
     "name": "stderr",
     "output_type": "stream",
     "text": [
      "Clipping input data to the valid range for imshow with RGB data ([0..1] for floats or [0..255] for integers).\n"
     ]
    },
    {
     "name": "stdout",
     "output_type": "stream",
     "text": [
      "torch.Size([512, 512, 3])\n"
     ]
    },
    {
     "name": "stderr",
     "output_type": "stream",
     "text": [
      "Clipping input data to the valid range for imshow with RGB data ([0..1] for floats or [0..255] for integers).\n"
     ]
    },
    {
     "name": "stdout",
     "output_type": "stream",
     "text": [
      "torch.Size([512, 512, 3])\n"
     ]
    },
    {
     "name": "stderr",
     "output_type": "stream",
     "text": [
      "Clipping input data to the valid range for imshow with RGB data ([0..1] for floats or [0..255] for integers).\n"
     ]
    },
    {
     "name": "stdout",
     "output_type": "stream",
     "text": [
      "torch.Size([512, 512, 3])\n"
     ]
    },
    {
     "name": "stderr",
     "output_type": "stream",
     "text": [
      "Clipping input data to the valid range for imshow with RGB data ([0..1] for floats or [0..255] for integers).\n"
     ]
    },
    {
     "name": "stdout",
     "output_type": "stream",
     "text": [
      "torch.Size([512, 512, 3])\n"
     ]
    },
    {
     "name": "stderr",
     "output_type": "stream",
     "text": [
      "Clipping input data to the valid range for imshow with RGB data ([0..1] for floats or [0..255] for integers).\n"
     ]
    },
    {
     "name": "stdout",
     "output_type": "stream",
     "text": [
      "torch.Size([512, 512, 3])\n"
     ]
    },
    {
     "name": "stderr",
     "output_type": "stream",
     "text": [
      "Clipping input data to the valid range for imshow with RGB data ([0..1] for floats or [0..255] for integers).\n"
     ]
    },
    {
     "name": "stdout",
     "output_type": "stream",
     "text": [
      "torch.Size([512, 512, 3])\n"
     ]
    },
    {
     "name": "stderr",
     "output_type": "stream",
     "text": [
      "Clipping input data to the valid range for imshow with RGB data ([0..1] for floats or [0..255] for integers).\n"
     ]
    },
    {
     "name": "stdout",
     "output_type": "stream",
     "text": [
      "torch.Size([512, 512, 3])\n"
     ]
    },
    {
     "name": "stderr",
     "output_type": "stream",
     "text": [
      "Clipping input data to the valid range for imshow with RGB data ([0..1] for floats or [0..255] for integers).\n"
     ]
    },
    {
     "name": "stdout",
     "output_type": "stream",
     "text": [
      "torch.Size([512, 512, 3])\n"
     ]
    },
    {
     "name": "stderr",
     "output_type": "stream",
     "text": [
      "Clipping input data to the valid range for imshow with RGB data ([0..1] for floats or [0..255] for integers).\n"
     ]
    },
    {
     "name": "stdout",
     "output_type": "stream",
     "text": [
      "torch.Size([512, 512, 3])\n"
     ]
    },
    {
     "name": "stderr",
     "output_type": "stream",
     "text": [
      "Clipping input data to the valid range for imshow with RGB data ([0..1] for floats or [0..255] for integers).\n"
     ]
    },
    {
     "name": "stdout",
     "output_type": "stream",
     "text": [
      "torch.Size([512, 512, 3])\n"
     ]
    },
    {
     "name": "stderr",
     "output_type": "stream",
     "text": [
      "Clipping input data to the valid range for imshow with RGB data ([0..1] for floats or [0..255] for integers).\n"
     ]
    },
    {
     "name": "stdout",
     "output_type": "stream",
     "text": [
      "torch.Size([512, 512, 3])\n"
     ]
    },
    {
     "name": "stderr",
     "output_type": "stream",
     "text": [
      "Clipping input data to the valid range for imshow with RGB data ([0..1] for floats or [0..255] for integers).\n"
     ]
    },
    {
     "name": "stdout",
     "output_type": "stream",
     "text": [
      "torch.Size([512, 512, 3])\n"
     ]
    },
    {
     "name": "stderr",
     "output_type": "stream",
     "text": [
      "Clipping input data to the valid range for imshow with RGB data ([0..1] for floats or [0..255] for integers).\n"
     ]
    },
    {
     "name": "stdout",
     "output_type": "stream",
     "text": [
      "torch.Size([512, 512, 3])\n"
     ]
    },
    {
     "name": "stderr",
     "output_type": "stream",
     "text": [
      "Clipping input data to the valid range for imshow with RGB data ([0..1] for floats or [0..255] for integers).\n"
     ]
    },
    {
     "name": "stdout",
     "output_type": "stream",
     "text": [
      "torch.Size([512, 512, 3])\n"
     ]
    },
    {
     "name": "stderr",
     "output_type": "stream",
     "text": [
      "Clipping input data to the valid range for imshow with RGB data ([0..1] for floats or [0..255] for integers).\n"
     ]
    },
    {
     "name": "stdout",
     "output_type": "stream",
     "text": [
      "torch.Size([512, 512, 3])\n"
     ]
    },
    {
     "name": "stderr",
     "output_type": "stream",
     "text": [
      "Clipping input data to the valid range for imshow with RGB data ([0..1] for floats or [0..255] for integers).\n"
     ]
    },
    {
     "name": "stdout",
     "output_type": "stream",
     "text": [
      "torch.Size([512, 512, 3])\n"
     ]
    },
    {
     "name": "stderr",
     "output_type": "stream",
     "text": [
      "Clipping input data to the valid range for imshow with RGB data ([0..1] for floats or [0..255] for integers).\n"
     ]
    },
    {
     "name": "stdout",
     "output_type": "stream",
     "text": [
      "torch.Size([512, 512, 3])\n"
     ]
    },
    {
     "name": "stderr",
     "output_type": "stream",
     "text": [
      "Clipping input data to the valid range for imshow with RGB data ([0..1] for floats or [0..255] for integers).\n"
     ]
    },
    {
     "name": "stdout",
     "output_type": "stream",
     "text": [
      "torch.Size([512, 512, 3])\n"
     ]
    },
    {
     "name": "stderr",
     "output_type": "stream",
     "text": [
      "Clipping input data to the valid range for imshow with RGB data ([0..1] for floats or [0..255] for integers).\n"
     ]
    },
    {
     "name": "stdout",
     "output_type": "stream",
     "text": [
      "torch.Size([512, 512, 3])\n"
     ]
    },
    {
     "data": {
      "image/png": "[encoded data removed]",
      "text/plain": [
       "<Figure size 640x480 with 1 Axes>"
      ]
     },
     "metadata": {},
     "output_type": "display_data"
    }
   ],
   "source": [
    "mixed_imgs = A + B\n",
    "output_video(mixed_imgs, 3)"
   ]
  },
  {
   "cell_type": "code",
   "execution_count": null,
   "id": "ddd0b352",
   "metadata": {},
   "outputs": [],
   "source": [
    "mixed_imgs = A + B\n",
    "mixed_label = (1 - lam) * label +  lam * label[rand_index, :]"
   ]
  },
  {
   "cell_type": "code",
   "execution_count": null,
   "id": "fcd2faa6",
   "metadata": {},
   "outputs": [],
   "source": [
    "output_video(mixed_imgs, 0)"
   ]
  },
  {
   "cell_type": "markdown",
   "id": "a28449ba",
   "metadata": {},
   "source": [
    "## Scrambmix"
   ]
  },
  {
   "cell_type": "code",
   "execution_count": null,
   "id": "3a8afa09",
   "metadata": {},
   "outputs": [],
   "source": [
    "from mmaction.datasets import Scrambmix"
   ]
  },
  {
   "cell_type": "code",
   "execution_count": null,
   "id": "de1ee0a1",
   "metadata": {},
   "outputs": [],
   "source": [
    "scrambmix = Scrambmix(num_classes=226, num_frames = 32, alpha=5)"
   ]
  },
  {
   "cell_type": "code",
   "execution_count": null,
   "id": "60d12bea",
   "metadata": {},
   "outputs": [],
   "source": [
    "mixed_imgs, mixed_label = scrambmix.do_blending(imgs, labels)"
   ]
  },
  {
   "cell_type": "code",
   "execution_count": null,
   "id": "292c66be",
   "metadata": {},
   "outputs": [],
   "source": [
    "mixed_imgs.shape"
   ]
  },
  {
   "cell_type": "code",
   "execution_count": null,
   "id": "2b1ee1c9",
   "metadata": {},
   "outputs": [],
   "source": [
    "labels"
   ]
  },
  {
   "cell_type": "code",
   "execution_count": null,
   "id": "2ba62be6",
   "metadata": {},
   "outputs": [],
   "source": [
    "mixed_label"
   ]
  },
  {
   "cell_type": "code",
   "execution_count": null,
   "id": "55bbf66a",
   "metadata": {},
   "outputs": [],
   "source": [
    "mixed_imgs.shape"
   ]
  },
  {
   "cell_type": "code",
   "execution_count": null,
   "id": "379846ef",
   "metadata": {
    "scrolled": true
   },
   "outputs": [],
   "source": [
    "output_video(imgs, 2)"
   ]
  }
 ],
 "metadata": {
  "kernelspec": {
   "display_name": "mmsign",
   "language": "python",
   "name": "mmsign"
  },
  "language_info": {
   "codemirror_mode": {
    "name": "ipython",
    "version": 3
   },
   "file_extension": ".py",
   "mimetype": "text/x-python",
   "name": "python",
   "nbconvert_exporter": "python",
   "pygments_lexer": "ipython3",
   "version": "3.8.17"
  }
 },
 "nbformat": 4,
 "nbformat_minor": 5
}
