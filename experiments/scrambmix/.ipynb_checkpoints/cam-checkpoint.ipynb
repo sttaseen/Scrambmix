{
 "cells": [
  {
   "cell_type": "markdown",
   "id": "1f6696d1",
   "metadata": {},
   "source": [
    "## Imports"
   ]
  },
  {
   "cell_type": "code",
   "execution_count": 1,
   "id": "31c5a298",
   "metadata": {},
   "outputs": [
    {
     "name": "stderr",
     "output_type": "stream",
     "text": [
      "/Users/sadat/miniconda3/envs/scrambmix/lib/python3.8/site-packages/mmcv/__init__.py:20: UserWarning: On January 1, 2023, MMCV will release v2.0.0, in which it will remove components related to the training process and add a data transformation module. In addition, it will rename the package names mmcv to mmcv-lite and mmcv-full to mmcv. See https://github.com/open-mmlab/mmcv/blob/master/docs/en/compatibility.md for more details.\n",
      "  warnings.warn(\n"
     ]
    }
   ],
   "source": [
    "import os\n",
    "import matplotlib.pyplot as plt\n",
    "import torch\n",
    "import numpy as np\n",
    "\n",
    "from dataset import MultiModalDataset"
   ]
  },
  {
   "cell_type": "markdown",
   "id": "ef7b7102",
   "metadata": {},
   "source": [
    "## Function for saving videos"
   ]
  },
  {
   "cell_type": "code",
   "execution_count": 2,
   "id": "e7f3b500",
   "metadata": {},
   "outputs": [],
   "source": [
    "\"\"\"Function to save videos in ./outputs.\n",
    "\n",
    "Args:\n",
    "    video_tensor (Tensor): The video tensor in BNCTHW format.\n",
    "    index (int): The video index in the batch. Default: 0.\n",
    "\"\"\"\n",
    "def output_video(video_tensor, index=0):\n",
    "    os.makedirs('output', exist_ok=True)\n",
    "    for i, np_image in enumerate(video_tensor[index].squeeze().permute(1,2,3,0)):\n",
    "        print(np_image.shape)\n",
    "        img_array = np.array(np_image.numpy())\n",
    "        plt.imshow(img_array)\n",
    "        plt.axis('off')  # Turn off axis labels and ticks\n",
    "\n",
    "        # Save the image using plt.savefig()\n",
    "        output_path = f\"output/{i}.jpg\"\n",
    "        plt.savefig(output_path, bbox_inches='tight', pad_inches=0, dpi=300)"
   ]
  },
  {
   "cell_type": "markdown",
   "id": "f5f3cec5",
   "metadata": {},
   "source": [
    "## Loading batches"
   ]
  },
  {
   "cell_type": "code",
   "execution_count": 105,
   "id": "8fcef103",
   "metadata": {},
   "outputs": [],
   "source": [
    "dataset = MultiModalDataset(ann_file='../../data/something-something-v2/train_annotations.txt',\n",
    "                            root_dir='../../data/something-something-v2/rawframes',\n",
    "                            clip_len=32,\n",
    "                            resolution=(240, 427),\n",
    "                            modalities=('rgb'),\n",
    "                            test_mode=False,\n",
    "                            frame_interval=1,\n",
    "                            input_resolution=(240, 427),\n",
    "                            num_clips=1\n",
    "                            )"
   ]
  },
  {
   "cell_type": "code",
   "execution_count": 106,
   "id": "cd135438",
   "metadata": {},
   "outputs": [],
   "source": [
    "train_loader = torch.utils.data.DataLoader(dataset=dataset,\n",
    "                                                batch_size=2,\n",
    "                                                shuffle=True,\n",
    "                                                num_workers=4,\n",
    "                                                pin_memory=True)"
   ]
  },
  {
   "cell_type": "code",
   "execution_count": 107,
   "id": "5f160847",
   "metadata": {
    "scrolled": true
   },
   "outputs": [
    {
     "name": "stderr",
     "output_type": "stream",
     "text": [
      "/Users/sadat/miniconda3/envs/scrambmix/lib/python3.8/site-packages/mmcv/__init__.py:20: UserWarning: On January 1, 2023, MMCV will release v2.0.0, in which it will remove components related to the training process and add a data transformation module. In addition, it will rename the package names mmcv to mmcv-lite and mmcv-full to mmcv. See https://github.com/open-mmlab/mmcv/blob/master/docs/en/compatibility.md for more details.\n",
      "  warnings.warn(\n",
      "/Users/sadat/miniconda3/envs/scrambmix/lib/python3.8/site-packages/mmcv/__init__.py:20: UserWarning: On January 1, 2023, MMCV will release v2.0.0, in which it will remove components related to the training process and add a data transformation module. In addition, it will rename the package names mmcv to mmcv-lite and mmcv-full to mmcv. See https://github.com/open-mmlab/mmcv/blob/master/docs/en/compatibility.md for more details.\n",
      "  warnings.warn(\n",
      "/Users/sadat/miniconda3/envs/scrambmix/lib/python3.8/site-packages/mmcv/__init__.py:20: UserWarning: On January 1, 2023, MMCV will release v2.0.0, in which it will remove components related to the training process and add a data transformation module. In addition, it will rename the package names mmcv to mmcv-lite and mmcv-full to mmcv. See https://github.com/open-mmlab/mmcv/blob/master/docs/en/compatibility.md for more details.\n",
      "  warnings.warn(\n",
      "/Users/sadat/miniconda3/envs/scrambmix/lib/python3.8/site-packages/mmcv/__init__.py:20: UserWarning: On January 1, 2023, MMCV will release v2.0.0, in which it will remove components related to the training process and add a data transformation module. In addition, it will rename the package names mmcv to mmcv-lite and mmcv-full to mmcv. See https://github.com/open-mmlab/mmcv/blob/master/docs/en/compatibility.md for more details.\n",
      "  warnings.warn(\n"
     ]
    }
   ],
   "source": [
    "iter_ = iter(train_loader)"
   ]
  },
  {
   "cell_type": "code",
   "execution_count": 108,
   "id": "09876a12",
   "metadata": {},
   "outputs": [
    {
     "data": {
      "text/plain": [
       "torch.Size([2, 1, 3, 32, 240, 427])"
      ]
     },
     "execution_count": 108,
     "metadata": {},
     "output_type": "execute_result"
    }
   ],
   "source": [
    "result = next(iter_)\n",
    "imgs = result['rgb'].unsqueeze(dim=1)\n",
    "label = result['label'].unsqueeze(dim=1)\n",
    "imgs.shape"
   ]
  },
  {
   "cell_type": "code",
   "execution_count": 109,
   "id": "a251dc6d-f95d-42fa-9a5b-8077d55fde26",
   "metadata": {},
   "outputs": [
    {
     "data": {
      "text/plain": [
       "tensor([[ 93],\n",
       "        [109]])"
      ]
     },
     "execution_count": 109,
     "metadata": {},
     "output_type": "execute_result"
    }
   ],
   "source": [
    "original = imgs.clone()\n",
    "label"
   ]
  },
  {
   "cell_type": "markdown",
   "id": "49254c7a-eecd-4d49-9b4c-ea8c8e311e11",
   "metadata": {},
   "source": [
    "## Apply the MixUp method"
   ]
  },
  {
   "cell_type": "code",
   "execution_count": 220,
   "id": "aa5bed12-c61b-4666-a6f7-b6c8903750ec",
   "metadata": {},
   "outputs": [],
   "source": [
    "imgs = original.clone()"
   ]
  },
  {
   "cell_type": "code",
   "execution_count": 221,
   "id": "b09f5f31-a86a-4493-96ae-293efeb2a604",
   "metadata": {},
   "outputs": [],
   "source": [
    "from methods import Scrambmix\n",
    "\n",
    "mixup = Scrambmix(num_classes=174, num_frames=32, alpha=5)\n",
    "\n",
    "mixup_out = mixup.do_blending(imgs, label)"
   ]
  },
  {
   "cell_type": "code",
   "execution_count": 222,
   "id": "c41ebd81-d6ce-4886-8b31-ca07c40ac7c9",
   "metadata": {},
   "outputs": [
    {
     "data": {
      "text/plain": [
       "tensor([[100.6934],\n",
       "        [101.3066]])"
      ]
     },
     "execution_count": 222,
     "metadata": {},
     "output_type": "execute_result"
    }
   ],
   "source": [
    "imgs = mixup_out[0]\n",
    "labels = mixup_out[1]\n",
    "labels"
   ]
  },
  {
   "cell_type": "markdown",
   "id": "56f5f55b-6253-478b-a388-c49eb04113af",
   "metadata": {},
   "source": [
    "## Separate the Model"
   ]
  },
  {
   "cell_type": "code",
   "execution_count": 223,
   "id": "6e564c16-d09a-4c89-87e1-778f0ae59f99",
   "metadata": {},
   "outputs": [],
   "source": [
    "model = torch.load('./ssv2-checkpoints/scrambmix/Fl-Xz.pth',map_location=torch.device('cpu'))"
   ]
  },
  {
   "cell_type": "code",
   "execution_count": 224,
   "id": "66791471-4cf7-4190-9be4-b7ea913f9d18",
   "metadata": {},
   "outputs": [],
   "source": [
    "backbone = dict()\n",
    "head = dict()\n",
    "\n",
    "checkpoint = model['state_dict']"
   ]
  },
  {
   "cell_type": "code",
   "execution_count": 225,
   "id": "ea92f9ae-944a-4786-b09f-13cb1dd5cf37",
   "metadata": {},
   "outputs": [],
   "source": [
    "for key in checkpoint.keys():\n",
    "    if key[:9] == 'backbone.':\n",
    "        backbone[key[9:]] = checkpoint[key]\n",
    "    else:\n",
    "        head[key[9:]] = checkpoint[key]"
   ]
  },
  {
   "cell_type": "code",
   "execution_count": 226,
   "id": "71e84bba-ee9d-41d2-8000-0e365168ed28",
   "metadata": {},
   "outputs": [],
   "source": [
    "torch.save(backbone, '../../backbone.pth')\n",
    "torch.save(head, '../../head.pth')"
   ]
  },
  {
   "cell_type": "markdown",
   "id": "195b839c",
   "metadata": {},
   "source": [
    "## Model"
   ]
  },
  {
   "cell_type": "code",
   "execution_count": 227,
   "id": "034803be",
   "metadata": {},
   "outputs": [],
   "source": [
    "from mmaction.models import ResNet3dCSN"
   ]
  },
  {
   "cell_type": "code",
   "execution_count": 228,
   "id": "42206d96-8dbf-4c0e-adb6-5c945d82cff1",
   "metadata": {},
   "outputs": [],
   "source": [
    "backbone = ResNet3dCSN(\n",
    "        pretrained2d=False,\n",
    "        out_indices=(0, 1, 2, 3),\n",
    "        pretrained='https://download.openmmlab.com/mmaction/recognition/csn/ircsn_from_scratch_r50_ig65m_20210617-ce545a37.pth',\n",
    "        depth=50,\n",
    "        with_pool2=False,\n",
    "        bottleneck_mode='ir',\n",
    "        norm_eval=True,\n",
    "        zero_init_residual=False,\n",
    "        bn_frozen=True,)"
   ]
  },
  {
   "cell_type": "code",
   "execution_count": 229,
   "id": "6c160342-fd83-45c1-9c72-e8be07997c8a",
   "metadata": {},
   "outputs": [
    {
     "data": {
      "text/plain": [
       "<All keys matched successfully>"
      ]
     },
     "execution_count": 229,
     "metadata": {},
     "output_type": "execute_result"
    }
   ],
   "source": [
    "backbone.load_state_dict(torch.load('../../backbone.pth'))"
   ]
  },
  {
   "cell_type": "code",
   "execution_count": 230,
   "id": "753f38cc-d969-404a-b91b-240810898652",
   "metadata": {},
   "outputs": [],
   "source": [
    "from mmaction.models import I3DHead\n",
    "\n",
    "head =  I3DHead(\n",
    "        num_classes=174,\n",
    "        in_channels=2048,\n",
    "        spatial_type='avg',\n",
    "        dropout_ratio=0.5,\n",
    "        init_std=0.01)"
   ]
  },
  {
   "cell_type": "code",
   "execution_count": 231,
   "id": "e9eacc87-33f6-4831-ad06-0a4f084ff5ea",
   "metadata": {},
   "outputs": [
    {
     "data": {
      "text/plain": [
       "<All keys matched successfully>"
      ]
     },
     "execution_count": 231,
     "metadata": {},
     "output_type": "execute_result"
    }
   ],
   "source": [
    "head.load_state_dict(torch.load('../../head.pth'))"
   ]
  },
  {
   "cell_type": "markdown",
   "id": "97bf8d38-2fac-42f5-973c-fc3913859d82",
   "metadata": {},
   "source": [
    "## Getting the activations"
   ]
  },
  {
   "cell_type": "code",
   "execution_count": 232,
   "id": "fa900c0d-467a-49f2-ba34-028fc32a8c20",
   "metadata": {},
   "outputs": [
    {
     "data": {
      "text/plain": [
       "I3DHead(\n",
       "  (loss_cls): CrossEntropyLoss()\n",
       "  (dropout): Dropout(p=0.5, inplace=False)\n",
       "  (fc_cls): Linear(in_features=2048, out_features=174, bias=True)\n",
       "  (avg_pool): AdaptiveAvgPool3d(output_size=(1, 1, 1))\n",
       ")"
      ]
     },
     "execution_count": 232,
     "metadata": {},
     "output_type": "execute_result"
    }
   ],
   "source": [
    "backbone.eval()\n",
    "head.eval()"
   ]
  },
  {
   "cell_type": "code",
   "execution_count": 252,
   "id": "29ad15aa-80c3-4411-bc9b-809188fa10e2",
   "metadata": {},
   "outputs": [],
   "source": [
    "label_ix = 0"
   ]
  },
  {
   "cell_type": "code",
   "execution_count": 253,
   "id": "fb315fe9-4a7d-4158-954e-121a02f00d51",
   "metadata": {},
   "outputs": [
    {
     "data": {
      "text/plain": [
       "torch.Size([2, 1, 3, 32, 240, 427])"
      ]
     },
     "execution_count": 253,
     "metadata": {},
     "output_type": "execute_result"
    }
   ],
   "source": [
    "imgs.shape"
   ]
  },
  {
   "cell_type": "code",
   "execution_count": 254,
   "id": "642b7c11-6b16-451e-a972-2b736fd5526b",
   "metadata": {},
   "outputs": [
    {
     "data": {
      "text/plain": [
       "4"
      ]
     },
     "execution_count": 254,
     "metadata": {},
     "output_type": "execute_result"
    }
   ],
   "source": [
    "layer_outputs = backbone(imgs.clone()[label_ix])\n",
    "len(layer_outputs)"
   ]
  },
  {
   "cell_type": "code",
   "execution_count": 255,
   "id": "a75a6f89-f38f-4f83-b974-6875dd97af75",
   "metadata": {},
   "outputs": [
    {
     "data": {
      "text/plain": [
       "torch.Size([2048, 4, 8, 14])"
      ]
     },
     "execution_count": 255,
     "metadata": {},
     "output_type": "execute_result"
    }
   ],
   "source": [
    "last_layer = layer_outputs[3].squeeze()\n",
    "last_layer.shape"
   ]
  },
  {
   "cell_type": "code",
   "execution_count": 256,
   "id": "705084e0-b0eb-4c48-865a-229b266988be",
   "metadata": {},
   "outputs": [
    {
     "data": {
      "text/plain": [
       "torch.Size([174, 2048])"
      ]
     },
     "execution_count": 256,
     "metadata": {},
     "output_type": "execute_result"
    }
   ],
   "source": [
    "# Get the head weights\n",
    "head_weights = head.fc_cls.weight\n",
    "head_weights.shape"
   ]
  },
  {
   "cell_type": "code",
   "execution_count": 257,
   "id": "aaaa551d-eadb-4248-bf83-5b136f0fc3e3",
   "metadata": {},
   "outputs": [
    {
     "data": {
      "text/plain": [
       "93"
      ]
     },
     "execution_count": 257,
     "metadata": {},
     "output_type": "execute_result"
    }
   ],
   "source": [
    "class_num = label[label_ix].item()\n",
    "class_num"
   ]
  },
  {
   "cell_type": "code",
   "execution_count": 258,
   "id": "c7a58b3c-e3ed-4204-9321-752adecadf46",
   "metadata": {},
   "outputs": [],
   "source": [
    "class_scores = torch.matmul(head_weights, last_layer.view(2048, -1))\n",
    "class_scores = class_scores.view(174, 4, 8, 14)"
   ]
  },
  {
   "cell_type": "code",
   "execution_count": 259,
   "id": "3e79f36a-342d-4467-942f-f3eedd8e5a26",
   "metadata": {},
   "outputs": [
    {
     "data": {
      "text/plain": [
       "torch.Size([174, 4, 8, 14])"
      ]
     },
     "execution_count": 259,
     "metadata": {},
     "output_type": "execute_result"
    }
   ],
   "source": [
    "class_scores.shape"
   ]
  },
  {
   "cell_type": "code",
   "execution_count": 260,
   "id": "317d7b46-3442-4b33-8fb6-ebb10ebfa693",
   "metadata": {},
   "outputs": [],
   "source": [
    "cam = class_scores[class_num] # Set the class"
   ]
  },
  {
   "cell_type": "code",
   "execution_count": 261,
   "id": "1f52ee4a-dd79-4d78-8ab5-d292febce602",
   "metadata": {},
   "outputs": [
    {
     "data": {
      "text/plain": [
       "torch.Size([4, 8, 14])"
      ]
     },
     "execution_count": 261,
     "metadata": {},
     "output_type": "execute_result"
    }
   ],
   "source": [
    "cam.shape"
   ]
  },
  {
   "cell_type": "code",
   "execution_count": 262,
   "id": "425107fc-0277-4636-8ddf-ea3a1afa0b45",
   "metadata": {},
   "outputs": [],
   "source": [
    "import torch.nn as nn\n",
    "import torch.nn.functional as F\n",
    "from scipy.ndimage import gaussian_filter"
   ]
  },
  {
   "cell_type": "code",
   "execution_count": 263,
   "id": "47adcd98-2fe3-453c-9844-1c8be2a177d7",
   "metadata": {},
   "outputs": [],
   "source": [
    "# Upsample the CAM to match the size of the original activation map\n",
    "upsampled_tensor = F.interpolate(cam.unsqueeze(0).unsqueeze(0), size=(32, 240, 427), mode='trilinear')"
   ]
  },
  {
   "cell_type": "code",
   "execution_count": 264,
   "id": "8685f235-0448-4b7d-9521-5c87118d41aa",
   "metadata": {},
   "outputs": [
    {
     "data": {
      "text/plain": [
       "torch.Size([1, 1, 32, 240, 427])"
      ]
     },
     "execution_count": 264,
     "metadata": {},
     "output_type": "execute_result"
    }
   ],
   "source": [
    "upsampled_tensor.shape"
   ]
  },
  {
   "cell_type": "markdown",
   "id": "eaf6e3b2-505c-4dcb-8c2c-8244295d8a87",
   "metadata": {},
   "source": [
    "## Saving the CAM"
   ]
  },
  {
   "cell_type": "code",
   "execution_count": 265,
   "id": "6e440462-2826-4bbc-b967-04cfdf94e9be",
   "metadata": {},
   "outputs": [],
   "source": [
    "smoothed_cam = upsampled_tensor"
   ]
  },
  {
   "cell_type": "code",
   "execution_count": 266,
   "id": "f7448b9e-2d2b-4c85-9037-f309219fce0f",
   "metadata": {},
   "outputs": [
    {
     "data": {
      "text/plain": [
       "(32, 240, 427, 3)"
      ]
     },
     "execution_count": 266,
     "metadata": {},
     "output_type": "execute_result"
    }
   ],
   "source": [
    "# Normalize the CAM values between 0 and 1\n",
    "normalized_cam = (smoothed_cam - smoothed_cam.min()) / (smoothed_cam.max() - smoothed_cam.min())\n",
    "\n",
    "# Convert the normalized CAM to a numpy array and remove singleton dimensions\n",
    "normalized_cam_np = normalized_cam.squeeze()\n",
    "\n",
    "# Choose a colormap (e.g., 'jet')\n",
    "colormap = plt.get_cmap('jet')\n",
    "\n",
    "# Map normalized CAM values to colors using the chosen colormap\n",
    "colored_cam_np = colormap(normalized_cam_np.detach().numpy().squeeze())[:, :, :, :3] \n",
    "colored_cam_np.shape"
   ]
  },
  {
   "cell_type": "code",
   "execution_count": 267,
   "id": "5209a036-eb9b-4b7a-8e7f-929455d99791",
   "metadata": {},
   "outputs": [
    {
     "data": {
      "text/plain": [
       "torch.Size([1, 1, 3, 32, 240, 427])"
      ]
     },
     "execution_count": 267,
     "metadata": {},
     "output_type": "execute_result"
    }
   ],
   "source": [
    "colored_cam = torch.from_numpy(colored_cam_np).permute(3, 0, 1, 2).unsqueeze(0).unsqueeze(0)\n",
    "colored_cam.shape"
   ]
  },
  {
   "cell_type": "code",
   "execution_count": 268,
   "id": "4a908529-200a-4c06-a2f7-8bbd2ae77557",
   "metadata": {},
   "outputs": [
    {
     "data": {
      "text/plain": [
       "torch.Size([2, 1, 3, 32, 240, 427])"
      ]
     },
     "execution_count": 268,
     "metadata": {},
     "output_type": "execute_result"
    }
   ],
   "source": [
    "imgs.shape"
   ]
  },
  {
   "cell_type": "code",
   "execution_count": 269,
   "id": "8deda3d1-bcea-4178-8d33-2f9870a8b1bc",
   "metadata": {},
   "outputs": [
    {
     "data": {
      "text/plain": [
       "torch.Size([2, 1, 3, 32, 240, 427])"
      ]
     },
     "execution_count": 269,
     "metadata": {},
     "output_type": "execute_result"
    }
   ],
   "source": [
    "overlayed_video = original.clone()\n",
    "overlayed_video = imgs + 0.8 * colored_cam\n",
    "overlayed_video.shape"
   ]
  },
  {
   "cell_type": "code",
   "execution_count": 270,
   "id": "0c093217-7026-4131-971c-d38ad815e439",
   "metadata": {
    "scrolled": true
   },
   "outputs": [
    {
     "name": "stderr",
     "output_type": "stream",
     "text": [
      "Clipping input data to the valid range for imshow with RGB data ([0..1] for floats or [0..255] for integers).\n",
      "Clipping input data to the valid range for imshow with RGB data ([0..1] for floats or [0..255] for integers).\n"
     ]
    },
    {
     "name": "stdout",
     "output_type": "stream",
     "text": [
      "torch.Size([240, 427, 3])\n",
      "torch.Size([240, 427, 3])\n"
     ]
    },
    {
     "name": "stderr",
     "output_type": "stream",
     "text": [
      "Clipping input data to the valid range for imshow with RGB data ([0..1] for floats or [0..255] for integers).\n",
      "Clipping input data to the valid range for imshow with RGB data ([0..1] for floats or [0..255] for integers).\n"
     ]
    },
    {
     "name": "stdout",
     "output_type": "stream",
     "text": [
      "torch.Size([240, 427, 3])\n",
      "torch.Size([240, 427, 3])\n"
     ]
    },
    {
     "name": "stderr",
     "output_type": "stream",
     "text": [
      "Clipping input data to the valid range for imshow with RGB data ([0..1] for floats or [0..255] for integers).\n"
     ]
    },
    {
     "name": "stdout",
     "output_type": "stream",
     "text": [
      "torch.Size([240, 427, 3])\n"
     ]
    },
    {
     "name": "stderr",
     "output_type": "stream",
     "text": [
      "Clipping input data to the valid range for imshow with RGB data ([0..1] for floats or [0..255] for integers).\n"
     ]
    },
    {
     "name": "stdout",
     "output_type": "stream",
     "text": [
      "torch.Size([240, 427, 3])\n"
     ]
    },
    {
     "name": "stderr",
     "output_type": "stream",
     "text": [
      "Clipping input data to the valid range for imshow with RGB data ([0..1] for floats or [0..255] for integers).\n"
     ]
    },
    {
     "name": "stdout",
     "output_type": "stream",
     "text": [
      "torch.Size([240, 427, 3])\n"
     ]
    },
    {
     "name": "stderr",
     "output_type": "stream",
     "text": [
      "Clipping input data to the valid range for imshow with RGB data ([0..1] for floats or [0..255] for integers).\n"
     ]
    },
    {
     "name": "stdout",
     "output_type": "stream",
     "text": [
      "torch.Size([240, 427, 3])\n"
     ]
    },
    {
     "name": "stderr",
     "output_type": "stream",
     "text": [
      "Clipping input data to the valid range for imshow with RGB data ([0..1] for floats or [0..255] for integers).\n"
     ]
    },
    {
     "name": "stdout",
     "output_type": "stream",
     "text": [
      "torch.Size([240, 427, 3])\n"
     ]
    },
    {
     "name": "stderr",
     "output_type": "stream",
     "text": [
      "Clipping input data to the valid range for imshow with RGB data ([0..1] for floats or [0..255] for integers).\n"
     ]
    },
    {
     "name": "stdout",
     "output_type": "stream",
     "text": [
      "torch.Size([240, 427, 3])\n"
     ]
    },
    {
     "name": "stderr",
     "output_type": "stream",
     "text": [
      "Clipping input data to the valid range for imshow with RGB data ([0..1] for floats or [0..255] for integers).\n"
     ]
    },
    {
     "name": "stdout",
     "output_type": "stream",
     "text": [
      "torch.Size([240, 427, 3])\n"
     ]
    },
    {
     "name": "stderr",
     "output_type": "stream",
     "text": [
      "Clipping input data to the valid range for imshow with RGB data ([0..1] for floats or [0..255] for integers).\n"
     ]
    },
    {
     "name": "stdout",
     "output_type": "stream",
     "text": [
      "torch.Size([240, 427, 3])\n"
     ]
    },
    {
     "name": "stderr",
     "output_type": "stream",
     "text": [
      "Clipping input data to the valid range for imshow with RGB data ([0..1] for floats or [0..255] for integers).\n"
     ]
    },
    {
     "name": "stdout",
     "output_type": "stream",
     "text": [
      "torch.Size([240, 427, 3])\n"
     ]
    },
    {
     "name": "stderr",
     "output_type": "stream",
     "text": [
      "Clipping input data to the valid range for imshow with RGB data ([0..1] for floats or [0..255] for integers).\n"
     ]
    },
    {
     "name": "stdout",
     "output_type": "stream",
     "text": [
      "torch.Size([240, 427, 3])\n"
     ]
    },
    {
     "name": "stderr",
     "output_type": "stream",
     "text": [
      "Clipping input data to the valid range for imshow with RGB data ([0..1] for floats or [0..255] for integers).\n"
     ]
    },
    {
     "name": "stdout",
     "output_type": "stream",
     "text": [
      "torch.Size([240, 427, 3])\n"
     ]
    },
    {
     "name": "stderr",
     "output_type": "stream",
     "text": [
      "Clipping input data to the valid range for imshow with RGB data ([0..1] for floats or [0..255] for integers).\n"
     ]
    },
    {
     "name": "stdout",
     "output_type": "stream",
     "text": [
      "torch.Size([240, 427, 3])\n"
     ]
    },
    {
     "name": "stderr",
     "output_type": "stream",
     "text": [
      "Clipping input data to the valid range for imshow with RGB data ([0..1] for floats or [0..255] for integers).\n"
     ]
    },
    {
     "name": "stdout",
     "output_type": "stream",
     "text": [
      "torch.Size([240, 427, 3])\n"
     ]
    },
    {
     "name": "stderr",
     "output_type": "stream",
     "text": [
      "Clipping input data to the valid range for imshow with RGB data ([0..1] for floats or [0..255] for integers).\n"
     ]
    },
    {
     "name": "stdout",
     "output_type": "stream",
     "text": [
      "torch.Size([240, 427, 3])\n"
     ]
    },
    {
     "name": "stderr",
     "output_type": "stream",
     "text": [
      "Clipping input data to the valid range for imshow with RGB data ([0..1] for floats or [0..255] for integers).\n"
     ]
    },
    {
     "name": "stdout",
     "output_type": "stream",
     "text": [
      "torch.Size([240, 427, 3])\n"
     ]
    },
    {
     "name": "stderr",
     "output_type": "stream",
     "text": [
      "Clipping input data to the valid range for imshow with RGB data ([0..1] for floats or [0..255] for integers).\n"
     ]
    },
    {
     "name": "stdout",
     "output_type": "stream",
     "text": [
      "torch.Size([240, 427, 3])\n"
     ]
    },
    {
     "name": "stderr",
     "output_type": "stream",
     "text": [
      "Clipping input data to the valid range for imshow with RGB data ([0..1] for floats or [0..255] for integers).\n"
     ]
    },
    {
     "name": "stdout",
     "output_type": "stream",
     "text": [
      "torch.Size([240, 427, 3])\n"
     ]
    },
    {
     "name": "stderr",
     "output_type": "stream",
     "text": [
      "Clipping input data to the valid range for imshow with RGB data ([0..1] for floats or [0..255] for integers).\n"
     ]
    },
    {
     "name": "stdout",
     "output_type": "stream",
     "text": [
      "torch.Size([240, 427, 3])\n"
     ]
    },
    {
     "name": "stderr",
     "output_type": "stream",
     "text": [
      "Clipping input data to the valid range for imshow with RGB data ([0..1] for floats or [0..255] for integers).\n"
     ]
    },
    {
     "name": "stdout",
     "output_type": "stream",
     "text": [
      "torch.Size([240, 427, 3])\n"
     ]
    },
    {
     "name": "stderr",
     "output_type": "stream",
     "text": [
      "Clipping input data to the valid range for imshow with RGB data ([0..1] for floats or [0..255] for integers).\n"
     ]
    },
    {
     "name": "stdout",
     "output_type": "stream",
     "text": [
      "torch.Size([240, 427, 3])\n"
     ]
    },
    {
     "name": "stderr",
     "output_type": "stream",
     "text": [
      "Clipping input data to the valid range for imshow with RGB data ([0..1] for floats or [0..255] for integers).\n"
     ]
    },
    {
     "name": "stdout",
     "output_type": "stream",
     "text": [
      "torch.Size([240, 427, 3])\n"
     ]
    },
    {
     "name": "stderr",
     "output_type": "stream",
     "text": [
      "Clipping input data to the valid range for imshow with RGB data ([0..1] for floats or [0..255] for integers).\n"
     ]
    },
    {
     "name": "stdout",
     "output_type": "stream",
     "text": [
      "torch.Size([240, 427, 3])\n"
     ]
    },
    {
     "name": "stderr",
     "output_type": "stream",
     "text": [
      "Clipping input data to the valid range for imshow with RGB data ([0..1] for floats or [0..255] for integers).\n"
     ]
    },
    {
     "name": "stdout",
     "output_type": "stream",
     "text": [
      "torch.Size([240, 427, 3])\n"
     ]
    },
    {
     "name": "stderr",
     "output_type": "stream",
     "text": [
      "Clipping input data to the valid range for imshow with RGB data ([0..1] for floats or [0..255] for integers).\n"
     ]
    },
    {
     "name": "stdout",
     "output_type": "stream",
     "text": [
      "torch.Size([240, 427, 3])\n"
     ]
    },
    {
     "name": "stderr",
     "output_type": "stream",
     "text": [
      "Clipping input data to the valid range for imshow with RGB data ([0..1] for floats or [0..255] for integers).\n"
     ]
    },
    {
     "name": "stdout",
     "output_type": "stream",
     "text": [
      "torch.Size([240, 427, 3])\n"
     ]
    },
    {
     "name": "stderr",
     "output_type": "stream",
     "text": [
      "Clipping input data to the valid range for imshow with RGB data ([0..1] for floats or [0..255] for integers).\n"
     ]
    },
    {
     "name": "stdout",
     "output_type": "stream",
     "text": [
      "torch.Size([240, 427, 3])\n"
     ]
    },
    {
     "name": "stderr",
     "output_type": "stream",
     "text": [
      "Clipping input data to the valid range for imshow with RGB data ([0..1] for floats or [0..255] for integers).\n"
     ]
    },
    {
     "name": "stdout",
     "output_type": "stream",
     "text": [
      "torch.Size([240, 427, 3])\n"
     ]
    },
    {
     "name": "stderr",
     "output_type": "stream",
     "text": [
      "Clipping input data to the valid range for imshow with RGB data ([0..1] for floats or [0..255] for integers).\n"
     ]
    },
    {
     "name": "stdout",
     "output_type": "stream",
     "text": [
      "torch.Size([240, 427, 3])\n"
     ]
    },
    {
     "data": {
      "image/png": "[encoded data removed]",
      "text/plain": [
       "<Figure size 640x480 with 1 Axes>"
      ]
     },
     "metadata": {},
     "output_type": "display_data"
    }
   ],
   "source": [
    "output_video(overlayed_video, label_ix)"
   ]
  }
 ],
 "metadata": {
  "kernelspec": {
   "display_name": "scrambmix",
   "language": "python",
   "name": "scrambmix"
  },
  "language_info": {
   "codemirror_mode": {
    "name": "ipython",
    "version": 3
   },
   "file_extension": ".py",
   "mimetype": "text/x-python",
   "name": "python",
   "nbconvert_exporter": "python",
   "pygments_lexer": "ipython3",
   "version": "3.8.17"
  }
 },
 "nbformat": 4,
 "nbformat_minor": 5
}
