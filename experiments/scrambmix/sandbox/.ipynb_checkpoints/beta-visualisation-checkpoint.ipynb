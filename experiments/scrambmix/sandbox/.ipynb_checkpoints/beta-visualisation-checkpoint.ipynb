{
 "cells": [
  {
   "cell_type": "code",
   "execution_count": 2,
   "id": "4dcfb87f",
   "metadata": {},
   "outputs": [
    {
     "name": "stdout",
     "output_type": "stream",
     "text": [
      "[0 3 4 7 8]\n"
     ]
    }
   ],
   "source": [
    "import numpy as np\n",
    "\n",
    "# Create two NumPy arrays\n",
    "odd_array = np.array([1, 3, 5, 7, 9])\n",
    "even_array = np.array([0, 2, 4, 6, 8])\n",
    "\n",
    "# Create an index array for odd and even indices\n",
    "indices = np.arange(len(odd_array))\n",
    "\n",
    "# Get odd and even indices\n",
    "odd_indices = indices % 2 == 1\n",
    "even_indices = indices % 2 == 0\n",
    "\n",
    "# Combine the odd-indexed elements from odd_array and even-indexed elements from even_array\n",
    "result_array = np.where(odd_indices, odd_array, even_array)\n",
    "\n",
    "print(result_array)"
   ]
  },
  {
   "cell_type": "code",
   "execution_count": null,
   "id": "75b7c75f",
   "metadata": {},
   "outputs": [],
   "source": [
    "indices"
   ]
  },
  {
   "cell_type": "code",
   "execution_count": null,
   "id": "1af0233b",
   "metadata": {},
   "outputs": [],
   "source": [
    "odd_indices"
   ]
  },
  {
   "cell_type": "markdown",
   "id": "58233661",
   "metadata": {},
   "source": [
    "## Incorporating Beta"
   ]
  },
  {
   "cell_type": "code",
   "execution_count": 3,
   "id": "df7f1240",
   "metadata": {},
   "outputs": [
    {
     "data": {
      "text/plain": [
       "array([20, 21, 22, 23, 24, 25, 26, 27, 28, 29])"
      ]
     },
     "execution_count": 3,
     "metadata": {},
     "output_type": "execute_result"
    }
   ],
   "source": [
    "A = np.arange(20, 30)\n",
    "A"
   ]
  },
  {
   "cell_type": "code",
   "execution_count": 4,
   "id": "1bd2ed28",
   "metadata": {},
   "outputs": [
    {
     "data": {
      "text/plain": [
       "array([ 0,  1,  2,  3,  4,  5,  6,  7,  8,  9, 10, 11, 12, 13, 14, 15, 16,\n",
       "       17, 18, 19, 20, 21, 22, 23, 24, 25, 26, 27, 28, 29, 30, 31])"
      ]
     },
     "execution_count": 4,
     "metadata": {},
     "output_type": "execute_result"
    }
   ],
   "source": [
    "B = np.arange(0, 32)\n",
    "B"
   ]
  },
  {
   "cell_type": "code",
   "execution_count": 5,
   "id": "8d1e1fbd",
   "metadata": {},
   "outputs": [
    {
     "data": {
      "text/plain": [
       "array([ 0,  1,  2,  3,  4,  5,  6,  7,  8,  9, 10, 11, 12, 13, 14, 15, 16,\n",
       "       17, 18, 19, 20, 21, 22, 23, 24, 25, 26, 27, 28, 29, 30, 31])"
      ]
     },
     "execution_count": 5,
     "metadata": {},
     "output_type": "execute_result"
    }
   ],
   "source": [
    "lam = 0.3\n",
    "indices = np.arange(len(B))\n",
    "indices"
   ]
  },
  {
   "cell_type": "code",
   "execution_count": 6,
   "id": "b5c5c4b9",
   "metadata": {},
   "outputs": [
    {
     "data": {
      "text/plain": [
       "array([ True, False, False, False,  True, False, False, False,  True,\n",
       "       False, False, False,  True, False, False, False,  True, False,\n",
       "       False, False,  True, False, False, False,  True, False, False,\n",
       "       False,  True, False, False, False])"
      ]
     },
     "execution_count": 6,
     "metadata": {},
     "output_type": "execute_result"
    }
   ],
   "source": [
    "mix = indices % 4 == 0\n",
    "mix"
   ]
  },
  {
   "cell_type": "code",
   "execution_count": 6,
   "id": "6d1da39f",
   "metadata": {},
   "outputs": [
    {
     "data": {
      "image/png": "[encoded data removed]",
      "text/plain": [
       "<Figure size 640x480 with 1 Axes>"
      ]
     },
     "metadata": {},
     "output_type": "display_data"
    }
   ],
   "source": [
    "import numpy as np\n",
    "import matplotlib.pyplot as plt\n",
    "from scipy import stats\n",
    "\n",
    "# Define parameters for the Beta distribution\n",
    "alpha =   # Shape parameter (alpha > 0)\n",
    "\n",
    "# Define parameters for the Binomial distribution\n",
    "n = 32  # Number of trials\n",
    "\n",
    "# Create a Beta-Binomial distribution object\n",
    "beta = stats.betabinom(n, alpha, alpha, loc=0)\n",
    "\n",
    "# Generate 1000 samples from the distribution\n",
    "samples = beta.rvs(size=1000000)\n",
    "\n",
    "# Plot the histogram of the samples\n",
    "plt.hist(samples, bins=np.arange(0, n + 1) - 0.5, density=True, alpha=0.6, color='b', edgecolor='black')\n",
    "\n",
    "# Add labels and title to the plot\n",
    "plt.xlabel('Frames from video-A')\n",
    "plt.ylabel('Probability')\n",
    "plt.title('Beta-Binomial Distribution (n=10, alpha=5, beta=5)')\n",
    "\n",
    "# Show the plot\n",
    "plt.show()"
   ]
  },
  {
   "cell_type": "code",
   "execution_count": 31,
   "id": "2e3cf0fa",
   "metadata": {},
   "outputs": [
    {
     "data": {
      "text/plain": [
       "15"
      ]
     },
     "execution_count": 31,
     "metadata": {},
     "output_type": "execute_result"
    }
   ],
   "source": [
    "epsilon = beta.rvs()\n",
    "epsilon"
   ]
  },
  {
   "cell_type": "code",
   "execution_count": 33,
   "id": "328df509",
   "metadata": {},
   "outputs": [
    {
     "data": {
      "text/plain": [
       "2"
      ]
     },
     "execution_count": 33,
     "metadata": {},
     "output_type": "execute_result"
    }
   ],
   "source": [
    "interval = round(32/epsilon)\n",
    "interval"
   ]
  },
  {
   "cell_type": "code",
   "execution_count": 34,
   "id": "a18ea797",
   "metadata": {},
   "outputs": [
    {
     "data": {
      "text/plain": [
       "array([ True, False,  True, False,  True, False,  True, False,  True,\n",
       "       False,  True, False,  True, False,  True, False,  True, False,\n",
       "        True, False,  True, False,  True, False,  True, False,  True,\n",
       "       False,  True, False,  True, False])"
      ]
     },
     "execution_count": 34,
     "metadata": {},
     "output_type": "execute_result"
    }
   ],
   "source": [
    "mask = indices % interval == 0\n",
    "mask"
   ]
  },
  {
   "cell_type": "code",
   "execution_count": 35,
   "id": "dc19b12f",
   "metadata": {},
   "outputs": [
    {
     "data": {
      "text/plain": [
       "0.5"
      ]
     },
     "execution_count": 35,
     "metadata": {},
     "output_type": "execute_result"
    }
   ],
   "source": [
    "lam = 1/interval\n",
    "lam"
   ]
  },
  {
   "cell_type": "markdown",
   "id": "ae61d68a",
   "metadata": {},
   "source": [
    "## Putting it altogether"
   ]
  },
  {
   "cell_type": "code",
   "execution_count": 205,
   "id": "b5681297",
   "metadata": {},
   "outputs": [],
   "source": [
    "from scipy import stats\n",
    "\n",
    "alpha = 5\n",
    "n = 32\n",
    "\n",
    "A = np.arange(20, 52)\n",
    "B = np.arange(60, 92)"
   ]
  },
  {
   "cell_type": "code",
   "execution_count": 206,
   "id": "b19cd540",
   "metadata": {},
   "outputs": [],
   "source": [
    "beta_binom = stats.betabinom(n, alpha, alpha, loc=0)"
   ]
  },
  {
   "cell_type": "code",
   "execution_count": 211,
   "id": "48f3fb81",
   "metadata": {},
   "outputs": [
    {
     "name": "stdout",
     "output_type": "stream",
     "text": [
      "10, 3, 0.3333333333333333\n",
      "[ True False False  True False False  True False False  True False False\n",
      "  True False False  True False False  True False False  True False False\n",
      "  True False False  True False False  True False]\n",
      "[20 21 22 23 24 25 26 27 28 29 30 31 32 33 34 35 36 37 38 39 40 41 42 43\n",
      " 44 45 46 47 48 49 50 51]\n",
      "[60 61 62 63 64 65 66 67 68 69 70 71 72 73 74 75 76 77 78 79 80 81 82 83\n",
      " 84 85 86 87 88 89 90 91]\n",
      "[20 61 62 23 64 65 26 67 68 29 70 71 32 73 74 35 76 77 38 79 80 41 82 83\n",
      " 44 85 86 47 88 89 50 91]\n"
     ]
    }
   ],
   "source": [
    "epsilon = beta_binom.rvs()\n",
    "interval = round(n/epsilon)\n",
    "lam = 1/interval\n",
    "\n",
    "\n",
    "indices = np.arange(n)\n",
    "mask = indices % interval == 0\n",
    "\n",
    "\n",
    "result_array = np.where(mask, A, B)\n",
    "\n",
    "# lam applies for A\n",
    "print(f'{epsilon}, {interval}, {lam}')\n",
    "print(mask)\n",
    "print(A)\n",
    "print(B)\n",
    "print(result_array)"
   ]
  },
  {
   "cell_type": "code",
   "execution_count": 213,
   "id": "ead650dc",
   "metadata": {},
   "outputs": [
    {
     "data": {
      "text/plain": [
       "tensor([27,  9, 21, 13, 30, 26,  3, 10,  2, 17,  0, 25, 22, 28, 11, 12, 24, 29,\n",
       "        23,  8,  6, 20, 31,  4,  7, 14, 19,  1, 16, 18, 15,  5])"
      ]
     },
     "execution_count": 213,
     "metadata": {},
     "output_type": "execute_result"
    }
   ],
   "source": [
    "import torch\n",
    "\n",
    "torch.randperm(32)"
   ]
  }
 ],
 "metadata": {
  "kernelspec": {
   "display_name": "scrambmix",
   "language": "python",
   "name": "scrambmix"
  },
  "language_info": {
   "codemirror_mode": {
    "name": "ipython",
    "version": 3
   },
   "file_extension": ".py",
   "mimetype": "text/x-python",
   "name": "python",
   "nbconvert_exporter": "python",
   "pygments_lexer": "ipython3",
   "version": "3.8.17"
  }
 },
 "nbformat": 4,
 "nbformat_minor": 5
}
