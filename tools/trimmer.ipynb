{
 "cells": [
  {
   "cell_type": "markdown",
   "id": "403d8daa-6cb6-4a3d-a589-8f6373addeb6",
   "metadata": {},
   "source": [
    "# Imports"
   ]
  },
  {
   "cell_type": "code",
   "execution_count": 2,
   "id": "af6b98ed-bc19-4eab-ae17-208f335102e2",
   "metadata": {},
   "outputs": [],
   "source": [
    "import torch"
   ]
  },
  {
   "cell_type": "markdown",
   "id": "854e158f-7878-44ae-91a3-58e245911c0b",
   "metadata": {},
   "source": [
    "# Load the file"
   ]
  },
  {
   "cell_type": "code",
   "execution_count": 9,
   "id": "889f1203-0c0a-4138-b1e7-a48e7a7b68ee",
   "metadata": {
    "scrolled": true
   },
   "outputs": [],
   "source": [
    "checkpoint = torch.load('./QCYiz.pth', map_location=torch.device('cpu'))['state_dict']"
   ]
  },
  {
   "cell_type": "code",
   "execution_count": 10,
   "id": "447e4c05-6f9a-43eb-8cc1-b91636f700ee",
   "metadata": {},
   "outputs": [
    {
     "data": {
      "text/plain": [
       "odict_keys(['backbone.conv1.conv.weight', 'backbone.conv1.bn.weight', 'backbone.conv1.bn.bias', 'backbone.conv1.bn.running_mean', 'backbone.conv1.bn.running_var', 'backbone.conv1.bn.num_batches_tracked', 'backbone.layer1.0.conv1.conv.weight', 'backbone.layer1.0.conv1.bn.weight', 'backbone.layer1.0.conv1.bn.bias', 'backbone.layer1.0.conv1.bn.running_mean', 'backbone.layer1.0.conv1.bn.running_var', 'backbone.layer1.0.conv1.bn.num_batches_tracked', 'backbone.layer1.0.conv2.0.conv.weight', 'backbone.layer1.0.conv2.0.bn.weight', 'backbone.layer1.0.conv2.0.bn.bias', 'backbone.layer1.0.conv2.0.bn.running_mean', 'backbone.layer1.0.conv2.0.bn.running_var', 'backbone.layer1.0.conv2.0.bn.num_batches_tracked', 'backbone.layer1.0.conv3.conv.weight', 'backbone.layer1.0.conv3.bn.weight', 'backbone.layer1.0.conv3.bn.bias', 'backbone.layer1.0.conv3.bn.running_mean', 'backbone.layer1.0.conv3.bn.running_var', 'backbone.layer1.0.conv3.bn.num_batches_tracked', 'backbone.layer1.0.downsample.conv.weight', 'backbone.layer1.0.downsample.bn.weight', 'backbone.layer1.0.downsample.bn.bias', 'backbone.layer1.0.downsample.bn.running_mean', 'backbone.layer1.0.downsample.bn.running_var', 'backbone.layer1.0.downsample.bn.num_batches_tracked', 'backbone.layer1.1.conv1.conv.weight', 'backbone.layer1.1.conv1.bn.weight', 'backbone.layer1.1.conv1.bn.bias', 'backbone.layer1.1.conv1.bn.running_mean', 'backbone.layer1.1.conv1.bn.running_var', 'backbone.layer1.1.conv1.bn.num_batches_tracked', 'backbone.layer1.1.conv2.0.conv.weight', 'backbone.layer1.1.conv2.0.bn.weight', 'backbone.layer1.1.conv2.0.bn.bias', 'backbone.layer1.1.conv2.0.bn.running_mean', 'backbone.layer1.1.conv2.0.bn.running_var', 'backbone.layer1.1.conv2.0.bn.num_batches_tracked', 'backbone.layer1.1.conv3.conv.weight', 'backbone.layer1.1.conv3.bn.weight', 'backbone.layer1.1.conv3.bn.bias', 'backbone.layer1.1.conv3.bn.running_mean', 'backbone.layer1.1.conv3.bn.running_var', 'backbone.layer1.1.conv3.bn.num_batches_tracked', 'backbone.layer1.2.conv1.conv.weight', 'backbone.layer1.2.conv1.bn.weight', 'backbone.layer1.2.conv1.bn.bias', 'backbone.layer1.2.conv1.bn.running_mean', 'backbone.layer1.2.conv1.bn.running_var', 'backbone.layer1.2.conv1.bn.num_batches_tracked', 'backbone.layer1.2.conv2.0.conv.weight', 'backbone.layer1.2.conv2.0.bn.weight', 'backbone.layer1.2.conv2.0.bn.bias', 'backbone.layer1.2.conv2.0.bn.running_mean', 'backbone.layer1.2.conv2.0.bn.running_var', 'backbone.layer1.2.conv2.0.bn.num_batches_tracked', 'backbone.layer1.2.conv3.conv.weight', 'backbone.layer1.2.conv3.bn.weight', 'backbone.layer1.2.conv3.bn.bias', 'backbone.layer1.2.conv3.bn.running_mean', 'backbone.layer1.2.conv3.bn.running_var', 'backbone.layer1.2.conv3.bn.num_batches_tracked', 'backbone.layer2.0.conv1.conv.weight', 'backbone.layer2.0.conv1.bn.weight', 'backbone.layer2.0.conv1.bn.bias', 'backbone.layer2.0.conv1.bn.running_mean', 'backbone.layer2.0.conv1.bn.running_var', 'backbone.layer2.0.conv1.bn.num_batches_tracked', 'backbone.layer2.0.conv2.0.conv.weight', 'backbone.layer2.0.conv2.0.bn.weight', 'backbone.layer2.0.conv2.0.bn.bias', 'backbone.layer2.0.conv2.0.bn.running_mean', 'backbone.layer2.0.conv2.0.bn.running_var', 'backbone.layer2.0.conv2.0.bn.num_batches_tracked', 'backbone.layer2.0.conv3.conv.weight', 'backbone.layer2.0.conv3.bn.weight', 'backbone.layer2.0.conv3.bn.bias', 'backbone.layer2.0.conv3.bn.running_mean', 'backbone.layer2.0.conv3.bn.running_var', 'backbone.layer2.0.conv3.bn.num_batches_tracked', 'backbone.layer2.0.downsample.conv.weight', 'backbone.layer2.0.downsample.bn.weight', 'backbone.layer2.0.downsample.bn.bias', 'backbone.layer2.0.downsample.bn.running_mean', 'backbone.layer2.0.downsample.bn.running_var', 'backbone.layer2.0.downsample.bn.num_batches_tracked', 'backbone.layer2.1.conv1.conv.weight', 'backbone.layer2.1.conv1.bn.weight', 'backbone.layer2.1.conv1.bn.bias', 'backbone.layer2.1.conv1.bn.running_mean', 'backbone.layer2.1.conv1.bn.running_var', 'backbone.layer2.1.conv1.bn.num_batches_tracked', 'backbone.layer2.1.conv2.0.conv.weight', 'backbone.layer2.1.conv2.0.bn.weight', 'backbone.layer2.1.conv2.0.bn.bias', 'backbone.layer2.1.conv2.0.bn.running_mean', 'backbone.layer2.1.conv2.0.bn.running_var', 'backbone.layer2.1.conv2.0.bn.num_batches_tracked', 'backbone.layer2.1.conv3.conv.weight', 'backbone.layer2.1.conv3.bn.weight', 'backbone.layer2.1.conv3.bn.bias', 'backbone.layer2.1.conv3.bn.running_mean', 'backbone.layer2.1.conv3.bn.running_var', 'backbone.layer2.1.conv3.bn.num_batches_tracked', 'backbone.layer2.2.conv1.conv.weight', 'backbone.layer2.2.conv1.bn.weight', 'backbone.layer2.2.conv1.bn.bias', 'backbone.layer2.2.conv1.bn.running_mean', 'backbone.layer2.2.conv1.bn.running_var', 'backbone.layer2.2.conv1.bn.num_batches_tracked', 'backbone.layer2.2.conv2.0.conv.weight', 'backbone.layer2.2.conv2.0.bn.weight', 'backbone.layer2.2.conv2.0.bn.bias', 'backbone.layer2.2.conv2.0.bn.running_mean', 'backbone.layer2.2.conv2.0.bn.running_var', 'backbone.layer2.2.conv2.0.bn.num_batches_tracked', 'backbone.layer2.2.conv3.conv.weight', 'backbone.layer2.2.conv3.bn.weight', 'backbone.layer2.2.conv3.bn.bias', 'backbone.layer2.2.conv3.bn.running_mean', 'backbone.layer2.2.conv3.bn.running_var', 'backbone.layer2.2.conv3.bn.num_batches_tracked', 'backbone.layer2.3.conv1.conv.weight', 'backbone.layer2.3.conv1.bn.weight', 'backbone.layer2.3.conv1.bn.bias', 'backbone.layer2.3.conv1.bn.running_mean', 'backbone.layer2.3.conv1.bn.running_var', 'backbone.layer2.3.conv1.bn.num_batches_tracked', 'backbone.layer2.3.conv2.0.conv.weight', 'backbone.layer2.3.conv2.0.bn.weight', 'backbone.layer2.3.conv2.0.bn.bias', 'backbone.layer2.3.conv2.0.bn.running_mean', 'backbone.layer2.3.conv2.0.bn.running_var', 'backbone.layer2.3.conv2.0.bn.num_batches_tracked', 'backbone.layer2.3.conv3.conv.weight', 'backbone.layer2.3.conv3.bn.weight', 'backbone.layer2.3.conv3.bn.bias', 'backbone.layer2.3.conv3.bn.running_mean', 'backbone.layer2.3.conv3.bn.running_var', 'backbone.layer2.3.conv3.bn.num_batches_tracked', 'backbone.layer3.0.conv1.conv.weight', 'backbone.layer3.0.conv1.bn.weight', 'backbone.layer3.0.conv1.bn.bias', 'backbone.layer3.0.conv1.bn.running_mean', 'backbone.layer3.0.conv1.bn.running_var', 'backbone.layer3.0.conv1.bn.num_batches_tracked', 'backbone.layer3.0.conv2.0.conv.weight', 'backbone.layer3.0.conv2.0.bn.weight', 'backbone.layer3.0.conv2.0.bn.bias', 'backbone.layer3.0.conv2.0.bn.running_mean', 'backbone.layer3.0.conv2.0.bn.running_var', 'backbone.layer3.0.conv2.0.bn.num_batches_tracked', 'backbone.layer3.0.conv3.conv.weight', 'backbone.layer3.0.conv3.bn.weight', 'backbone.layer3.0.conv3.bn.bias', 'backbone.layer3.0.conv3.bn.running_mean', 'backbone.layer3.0.conv3.bn.running_var', 'backbone.layer3.0.conv3.bn.num_batches_tracked', 'backbone.layer3.0.downsample.conv.weight', 'backbone.layer3.0.downsample.bn.weight', 'backbone.layer3.0.downsample.bn.bias', 'backbone.layer3.0.downsample.bn.running_mean', 'backbone.layer3.0.downsample.bn.running_var', 'backbone.layer3.0.downsample.bn.num_batches_tracked', 'backbone.layer3.1.conv1.conv.weight', 'backbone.layer3.1.conv1.bn.weight', 'backbone.layer3.1.conv1.bn.bias', 'backbone.layer3.1.conv1.bn.running_mean', 'backbone.layer3.1.conv1.bn.running_var', 'backbone.layer3.1.conv1.bn.num_batches_tracked', 'backbone.layer3.1.conv2.0.conv.weight', 'backbone.layer3.1.conv2.0.bn.weight', 'backbone.layer3.1.conv2.0.bn.bias', 'backbone.layer3.1.conv2.0.bn.running_mean', 'backbone.layer3.1.conv2.0.bn.running_var', 'backbone.layer3.1.conv2.0.bn.num_batches_tracked', 'backbone.layer3.1.conv3.conv.weight', 'backbone.layer3.1.conv3.bn.weight', 'backbone.layer3.1.conv3.bn.bias', 'backbone.layer3.1.conv3.bn.running_mean', 'backbone.layer3.1.conv3.bn.running_var', 'backbone.layer3.1.conv3.bn.num_batches_tracked', 'backbone.layer3.2.conv1.conv.weight', 'backbone.layer3.2.conv1.bn.weight', 'backbone.layer3.2.conv1.bn.bias', 'backbone.layer3.2.conv1.bn.running_mean', 'backbone.layer3.2.conv1.bn.running_var', 'backbone.layer3.2.conv1.bn.num_batches_tracked', 'backbone.layer3.2.conv2.0.conv.weight', 'backbone.layer3.2.conv2.0.bn.weight', 'backbone.layer3.2.conv2.0.bn.bias', 'backbone.layer3.2.conv2.0.bn.running_mean', 'backbone.layer3.2.conv2.0.bn.running_var', 'backbone.layer3.2.conv2.0.bn.num_batches_tracked', 'backbone.layer3.2.conv3.conv.weight', 'backbone.layer3.2.conv3.bn.weight', 'backbone.layer3.2.conv3.bn.bias', 'backbone.layer3.2.conv3.bn.running_mean', 'backbone.layer3.2.conv3.bn.running_var', 'backbone.layer3.2.conv3.bn.num_batches_tracked', 'backbone.layer3.3.conv1.conv.weight', 'backbone.layer3.3.conv1.bn.weight', 'backbone.layer3.3.conv1.bn.bias', 'backbone.layer3.3.conv1.bn.running_mean', 'backbone.layer3.3.conv1.bn.running_var', 'backbone.layer3.3.conv1.bn.num_batches_tracked', 'backbone.layer3.3.conv2.0.conv.weight', 'backbone.layer3.3.conv2.0.bn.weight', 'backbone.layer3.3.conv2.0.bn.bias', 'backbone.layer3.3.conv2.0.bn.running_mean', 'backbone.layer3.3.conv2.0.bn.running_var', 'backbone.layer3.3.conv2.0.bn.num_batches_tracked', 'backbone.layer3.3.conv3.conv.weight', 'backbone.layer3.3.conv3.bn.weight', 'backbone.layer3.3.conv3.bn.bias', 'backbone.layer3.3.conv3.bn.running_mean', 'backbone.layer3.3.conv3.bn.running_var', 'backbone.layer3.3.conv3.bn.num_batches_tracked', 'backbone.layer3.4.conv1.conv.weight', 'backbone.layer3.4.conv1.bn.weight', 'backbone.layer3.4.conv1.bn.bias', 'backbone.layer3.4.conv1.bn.running_mean', 'backbone.layer3.4.conv1.bn.running_var', 'backbone.layer3.4.conv1.bn.num_batches_tracked', 'backbone.layer3.4.conv2.0.conv.weight', 'backbone.layer3.4.conv2.0.bn.weight', 'backbone.layer3.4.conv2.0.bn.bias', 'backbone.layer3.4.conv2.0.bn.running_mean', 'backbone.layer3.4.conv2.0.bn.running_var', 'backbone.layer3.4.conv2.0.bn.num_batches_tracked', 'backbone.layer3.4.conv3.conv.weight', 'backbone.layer3.4.conv3.bn.weight', 'backbone.layer3.4.conv3.bn.bias', 'backbone.layer3.4.conv3.bn.running_mean', 'backbone.layer3.4.conv3.bn.running_var', 'backbone.layer3.4.conv3.bn.num_batches_tracked', 'backbone.layer3.5.conv1.conv.weight', 'backbone.layer3.5.conv1.bn.weight', 'backbone.layer3.5.conv1.bn.bias', 'backbone.layer3.5.conv1.bn.running_mean', 'backbone.layer3.5.conv1.bn.running_var', 'backbone.layer3.5.conv1.bn.num_batches_tracked', 'backbone.layer3.5.conv2.0.conv.weight', 'backbone.layer3.5.conv2.0.bn.weight', 'backbone.layer3.5.conv2.0.bn.bias', 'backbone.layer3.5.conv2.0.bn.running_mean', 'backbone.layer3.5.conv2.0.bn.running_var', 'backbone.layer3.5.conv2.0.bn.num_batches_tracked', 'backbone.layer3.5.conv3.conv.weight', 'backbone.layer3.5.conv3.bn.weight', 'backbone.layer3.5.conv3.bn.bias', 'backbone.layer3.5.conv3.bn.running_mean', 'backbone.layer3.5.conv3.bn.running_var', 'backbone.layer3.5.conv3.bn.num_batches_tracked', 'backbone.layer4.0.conv1.conv.weight', 'backbone.layer4.0.conv1.bn.weight', 'backbone.layer4.0.conv1.bn.bias', 'backbone.layer4.0.conv1.bn.running_mean', 'backbone.layer4.0.conv1.bn.running_var', 'backbone.layer4.0.conv1.bn.num_batches_tracked', 'backbone.layer4.0.conv2.0.conv.weight', 'backbone.layer4.0.conv2.0.bn.weight', 'backbone.layer4.0.conv2.0.bn.bias', 'backbone.layer4.0.conv2.0.bn.running_mean', 'backbone.layer4.0.conv2.0.bn.running_var', 'backbone.layer4.0.conv2.0.bn.num_batches_tracked', 'backbone.layer4.0.conv3.conv.weight', 'backbone.layer4.0.conv3.bn.weight', 'backbone.layer4.0.conv3.bn.bias', 'backbone.layer4.0.conv3.bn.running_mean', 'backbone.layer4.0.conv3.bn.running_var', 'backbone.layer4.0.conv3.bn.num_batches_tracked', 'backbone.layer4.0.downsample.conv.weight', 'backbone.layer4.0.downsample.bn.weight', 'backbone.layer4.0.downsample.bn.bias', 'backbone.layer4.0.downsample.bn.running_mean', 'backbone.layer4.0.downsample.bn.running_var', 'backbone.layer4.0.downsample.bn.num_batches_tracked', 'backbone.layer4.1.conv1.conv.weight', 'backbone.layer4.1.conv1.bn.weight', 'backbone.layer4.1.conv1.bn.bias', 'backbone.layer4.1.conv1.bn.running_mean', 'backbone.layer4.1.conv1.bn.running_var', 'backbone.layer4.1.conv1.bn.num_batches_tracked', 'backbone.layer4.1.conv2.0.conv.weight', 'backbone.layer4.1.conv2.0.bn.weight', 'backbone.layer4.1.conv2.0.bn.bias', 'backbone.layer4.1.conv2.0.bn.running_mean', 'backbone.layer4.1.conv2.0.bn.running_var', 'backbone.layer4.1.conv2.0.bn.num_batches_tracked', 'backbone.layer4.1.conv3.conv.weight', 'backbone.layer4.1.conv3.bn.weight', 'backbone.layer4.1.conv3.bn.bias', 'backbone.layer4.1.conv3.bn.running_mean', 'backbone.layer4.1.conv3.bn.running_var', 'backbone.layer4.1.conv3.bn.num_batches_tracked', 'backbone.layer4.2.conv1.conv.weight', 'backbone.layer4.2.conv1.bn.weight', 'backbone.layer4.2.conv1.bn.bias', 'backbone.layer4.2.conv1.bn.running_mean', 'backbone.layer4.2.conv1.bn.running_var', 'backbone.layer4.2.conv1.bn.num_batches_tracked', 'backbone.layer4.2.conv2.0.conv.weight', 'backbone.layer4.2.conv2.0.bn.weight', 'backbone.layer4.2.conv2.0.bn.bias', 'backbone.layer4.2.conv2.0.bn.running_mean', 'backbone.layer4.2.conv2.0.bn.running_var', 'backbone.layer4.2.conv2.0.bn.num_batches_tracked', 'backbone.layer4.2.conv3.conv.weight', 'backbone.layer4.2.conv3.bn.weight', 'backbone.layer4.2.conv3.bn.bias', 'backbone.layer4.2.conv3.bn.running_mean', 'backbone.layer4.2.conv3.bn.running_var', 'backbone.layer4.2.conv3.bn.num_batches_tracked', 'cls_head.fc_cls.weight', 'cls_head.fc_cls.bias'])"
      ]
     },
     "execution_count": 10,
     "metadata": {},
     "output_type": "execute_result"
    }
   ],
   "source": [
    "checkpoint.keys()"
   ]
  },
  {
   "cell_type": "markdown",
   "id": "28082283-9652-4523-a87b-1f75a0ddf43c",
   "metadata": {},
   "source": [
    "## Trim"
   ]
  },
  {
   "cell_type": "code",
   "execution_count": 15,
   "id": "b462b36a-ee08-40d6-bd84-2477ec2088eb",
   "metadata": {},
   "outputs": [],
   "source": [
    "trimmed_checkpoint = dict()"
   ]
  },
  {
   "cell_type": "code",
   "execution_count": 16,
   "id": "1565b154-13e7-4771-9b3c-eeaf47b950ae",
   "metadata": {},
   "outputs": [],
   "source": [
    "for key in checkpoint.keys():\n",
    "    if key[:9] == 'backbone.':\n",
    "        trimmed_checkpoint[key[9:]] = checkpoint[key]"
   ]
  },
  {
   "cell_type": "code",
   "execution_count": 18,
   "id": "b91e2ef3-d0dc-43bf-a0e9-d25b1dc519a7",
   "metadata": {
    "scrolled": true
   },
   "outputs": [
    {
     "data": {
      "text/plain": [
       "dict_keys(['conv1.conv.weight', 'conv1.bn.weight', 'conv1.bn.bias', 'conv1.bn.running_mean', 'conv1.bn.running_var', 'conv1.bn.num_batches_tracked', 'layer1.0.conv1.conv.weight', 'layer1.0.conv1.bn.weight', 'layer1.0.conv1.bn.bias', 'layer1.0.conv1.bn.running_mean', 'layer1.0.conv1.bn.running_var', 'layer1.0.conv1.bn.num_batches_tracked', 'layer1.0.conv2.0.conv.weight', 'layer1.0.conv2.0.bn.weight', 'layer1.0.conv2.0.bn.bias', 'layer1.0.conv2.0.bn.running_mean', 'layer1.0.conv2.0.bn.running_var', 'layer1.0.conv2.0.bn.num_batches_tracked', 'layer1.0.conv3.conv.weight', 'layer1.0.conv3.bn.weight', 'layer1.0.conv3.bn.bias', 'layer1.0.conv3.bn.running_mean', 'layer1.0.conv3.bn.running_var', 'layer1.0.conv3.bn.num_batches_tracked', 'layer1.0.downsample.conv.weight', 'layer1.0.downsample.bn.weight', 'layer1.0.downsample.bn.bias', 'layer1.0.downsample.bn.running_mean', 'layer1.0.downsample.bn.running_var', 'layer1.0.downsample.bn.num_batches_tracked', 'layer1.1.conv1.conv.weight', 'layer1.1.conv1.bn.weight', 'layer1.1.conv1.bn.bias', 'layer1.1.conv1.bn.running_mean', 'layer1.1.conv1.bn.running_var', 'layer1.1.conv1.bn.num_batches_tracked', 'layer1.1.conv2.0.conv.weight', 'layer1.1.conv2.0.bn.weight', 'layer1.1.conv2.0.bn.bias', 'layer1.1.conv2.0.bn.running_mean', 'layer1.1.conv2.0.bn.running_var', 'layer1.1.conv2.0.bn.num_batches_tracked', 'layer1.1.conv3.conv.weight', 'layer1.1.conv3.bn.weight', 'layer1.1.conv3.bn.bias', 'layer1.1.conv3.bn.running_mean', 'layer1.1.conv3.bn.running_var', 'layer1.1.conv3.bn.num_batches_tracked', 'layer1.2.conv1.conv.weight', 'layer1.2.conv1.bn.weight', 'layer1.2.conv1.bn.bias', 'layer1.2.conv1.bn.running_mean', 'layer1.2.conv1.bn.running_var', 'layer1.2.conv1.bn.num_batches_tracked', 'layer1.2.conv2.0.conv.weight', 'layer1.2.conv2.0.bn.weight', 'layer1.2.conv2.0.bn.bias', 'layer1.2.conv2.0.bn.running_mean', 'layer1.2.conv2.0.bn.running_var', 'layer1.2.conv2.0.bn.num_batches_tracked', 'layer1.2.conv3.conv.weight', 'layer1.2.conv3.bn.weight', 'layer1.2.conv3.bn.bias', 'layer1.2.conv3.bn.running_mean', 'layer1.2.conv3.bn.running_var', 'layer1.2.conv3.bn.num_batches_tracked', 'layer2.0.conv1.conv.weight', 'layer2.0.conv1.bn.weight', 'layer2.0.conv1.bn.bias', 'layer2.0.conv1.bn.running_mean', 'layer2.0.conv1.bn.running_var', 'layer2.0.conv1.bn.num_batches_tracked', 'layer2.0.conv2.0.conv.weight', 'layer2.0.conv2.0.bn.weight', 'layer2.0.conv2.0.bn.bias', 'layer2.0.conv2.0.bn.running_mean', 'layer2.0.conv2.0.bn.running_var', 'layer2.0.conv2.0.bn.num_batches_tracked', 'layer2.0.conv3.conv.weight', 'layer2.0.conv3.bn.weight', 'layer2.0.conv3.bn.bias', 'layer2.0.conv3.bn.running_mean', 'layer2.0.conv3.bn.running_var', 'layer2.0.conv3.bn.num_batches_tracked', 'layer2.0.downsample.conv.weight', 'layer2.0.downsample.bn.weight', 'layer2.0.downsample.bn.bias', 'layer2.0.downsample.bn.running_mean', 'layer2.0.downsample.bn.running_var', 'layer2.0.downsample.bn.num_batches_tracked', 'layer2.1.conv1.conv.weight', 'layer2.1.conv1.bn.weight', 'layer2.1.conv1.bn.bias', 'layer2.1.conv1.bn.running_mean', 'layer2.1.conv1.bn.running_var', 'layer2.1.conv1.bn.num_batches_tracked', 'layer2.1.conv2.0.conv.weight', 'layer2.1.conv2.0.bn.weight', 'layer2.1.conv2.0.bn.bias', 'layer2.1.conv2.0.bn.running_mean', 'layer2.1.conv2.0.bn.running_var', 'layer2.1.conv2.0.bn.num_batches_tracked', 'layer2.1.conv3.conv.weight', 'layer2.1.conv3.bn.weight', 'layer2.1.conv3.bn.bias', 'layer2.1.conv3.bn.running_mean', 'layer2.1.conv3.bn.running_var', 'layer2.1.conv3.bn.num_batches_tracked', 'layer2.2.conv1.conv.weight', 'layer2.2.conv1.bn.weight', 'layer2.2.conv1.bn.bias', 'layer2.2.conv1.bn.running_mean', 'layer2.2.conv1.bn.running_var', 'layer2.2.conv1.bn.num_batches_tracked', 'layer2.2.conv2.0.conv.weight', 'layer2.2.conv2.0.bn.weight', 'layer2.2.conv2.0.bn.bias', 'layer2.2.conv2.0.bn.running_mean', 'layer2.2.conv2.0.bn.running_var', 'layer2.2.conv2.0.bn.num_batches_tracked', 'layer2.2.conv3.conv.weight', 'layer2.2.conv3.bn.weight', 'layer2.2.conv3.bn.bias', 'layer2.2.conv3.bn.running_mean', 'layer2.2.conv3.bn.running_var', 'layer2.2.conv3.bn.num_batches_tracked', 'layer2.3.conv1.conv.weight', 'layer2.3.conv1.bn.weight', 'layer2.3.conv1.bn.bias', 'layer2.3.conv1.bn.running_mean', 'layer2.3.conv1.bn.running_var', 'layer2.3.conv1.bn.num_batches_tracked', 'layer2.3.conv2.0.conv.weight', 'layer2.3.conv2.0.bn.weight', 'layer2.3.conv2.0.bn.bias', 'layer2.3.conv2.0.bn.running_mean', 'layer2.3.conv2.0.bn.running_var', 'layer2.3.conv2.0.bn.num_batches_tracked', 'layer2.3.conv3.conv.weight', 'layer2.3.conv3.bn.weight', 'layer2.3.conv3.bn.bias', 'layer2.3.conv3.bn.running_mean', 'layer2.3.conv3.bn.running_var', 'layer2.3.conv3.bn.num_batches_tracked', 'layer3.0.conv1.conv.weight', 'layer3.0.conv1.bn.weight', 'layer3.0.conv1.bn.bias', 'layer3.0.conv1.bn.running_mean', 'layer3.0.conv1.bn.running_var', 'layer3.0.conv1.bn.num_batches_tracked', 'layer3.0.conv2.0.conv.weight', 'layer3.0.conv2.0.bn.weight', 'layer3.0.conv2.0.bn.bias', 'layer3.0.conv2.0.bn.running_mean', 'layer3.0.conv2.0.bn.running_var', 'layer3.0.conv2.0.bn.num_batches_tracked', 'layer3.0.conv3.conv.weight', 'layer3.0.conv3.bn.weight', 'layer3.0.conv3.bn.bias', 'layer3.0.conv3.bn.running_mean', 'layer3.0.conv3.bn.running_var', 'layer3.0.conv3.bn.num_batches_tracked', 'layer3.0.downsample.conv.weight', 'layer3.0.downsample.bn.weight', 'layer3.0.downsample.bn.bias', 'layer3.0.downsample.bn.running_mean', 'layer3.0.downsample.bn.running_var', 'layer3.0.downsample.bn.num_batches_tracked', 'layer3.1.conv1.conv.weight', 'layer3.1.conv1.bn.weight', 'layer3.1.conv1.bn.bias', 'layer3.1.conv1.bn.running_mean', 'layer3.1.conv1.bn.running_var', 'layer3.1.conv1.bn.num_batches_tracked', 'layer3.1.conv2.0.conv.weight', 'layer3.1.conv2.0.bn.weight', 'layer3.1.conv2.0.bn.bias', 'layer3.1.conv2.0.bn.running_mean', 'layer3.1.conv2.0.bn.running_var', 'layer3.1.conv2.0.bn.num_batches_tracked', 'layer3.1.conv3.conv.weight', 'layer3.1.conv3.bn.weight', 'layer3.1.conv3.bn.bias', 'layer3.1.conv3.bn.running_mean', 'layer3.1.conv3.bn.running_var', 'layer3.1.conv3.bn.num_batches_tracked', 'layer3.2.conv1.conv.weight', 'layer3.2.conv1.bn.weight', 'layer3.2.conv1.bn.bias', 'layer3.2.conv1.bn.running_mean', 'layer3.2.conv1.bn.running_var', 'layer3.2.conv1.bn.num_batches_tracked', 'layer3.2.conv2.0.conv.weight', 'layer3.2.conv2.0.bn.weight', 'layer3.2.conv2.0.bn.bias', 'layer3.2.conv2.0.bn.running_mean', 'layer3.2.conv2.0.bn.running_var', 'layer3.2.conv2.0.bn.num_batches_tracked', 'layer3.2.conv3.conv.weight', 'layer3.2.conv3.bn.weight', 'layer3.2.conv3.bn.bias', 'layer3.2.conv3.bn.running_mean', 'layer3.2.conv3.bn.running_var', 'layer3.2.conv3.bn.num_batches_tracked', 'layer3.3.conv1.conv.weight', 'layer3.3.conv1.bn.weight', 'layer3.3.conv1.bn.bias', 'layer3.3.conv1.bn.running_mean', 'layer3.3.conv1.bn.running_var', 'layer3.3.conv1.bn.num_batches_tracked', 'layer3.3.conv2.0.conv.weight', 'layer3.3.conv2.0.bn.weight', 'layer3.3.conv2.0.bn.bias', 'layer3.3.conv2.0.bn.running_mean', 'layer3.3.conv2.0.bn.running_var', 'layer3.3.conv2.0.bn.num_batches_tracked', 'layer3.3.conv3.conv.weight', 'layer3.3.conv3.bn.weight', 'layer3.3.conv3.bn.bias', 'layer3.3.conv3.bn.running_mean', 'layer3.3.conv3.bn.running_var', 'layer3.3.conv3.bn.num_batches_tracked', 'layer3.4.conv1.conv.weight', 'layer3.4.conv1.bn.weight', 'layer3.4.conv1.bn.bias', 'layer3.4.conv1.bn.running_mean', 'layer3.4.conv1.bn.running_var', 'layer3.4.conv1.bn.num_batches_tracked', 'layer3.4.conv2.0.conv.weight', 'layer3.4.conv2.0.bn.weight', 'layer3.4.conv2.0.bn.bias', 'layer3.4.conv2.0.bn.running_mean', 'layer3.4.conv2.0.bn.running_var', 'layer3.4.conv2.0.bn.num_batches_tracked', 'layer3.4.conv3.conv.weight', 'layer3.4.conv3.bn.weight', 'layer3.4.conv3.bn.bias', 'layer3.4.conv3.bn.running_mean', 'layer3.4.conv3.bn.running_var', 'layer3.4.conv3.bn.num_batches_tracked', 'layer3.5.conv1.conv.weight', 'layer3.5.conv1.bn.weight', 'layer3.5.conv1.bn.bias', 'layer3.5.conv1.bn.running_mean', 'layer3.5.conv1.bn.running_var', 'layer3.5.conv1.bn.num_batches_tracked', 'layer3.5.conv2.0.conv.weight', 'layer3.5.conv2.0.bn.weight', 'layer3.5.conv2.0.bn.bias', 'layer3.5.conv2.0.bn.running_mean', 'layer3.5.conv2.0.bn.running_var', 'layer3.5.conv2.0.bn.num_batches_tracked', 'layer3.5.conv3.conv.weight', 'layer3.5.conv3.bn.weight', 'layer3.5.conv3.bn.bias', 'layer3.5.conv3.bn.running_mean', 'layer3.5.conv3.bn.running_var', 'layer3.5.conv3.bn.num_batches_tracked', 'layer4.0.conv1.conv.weight', 'layer4.0.conv1.bn.weight', 'layer4.0.conv1.bn.bias', 'layer4.0.conv1.bn.running_mean', 'layer4.0.conv1.bn.running_var', 'layer4.0.conv1.bn.num_batches_tracked', 'layer4.0.conv2.0.conv.weight', 'layer4.0.conv2.0.bn.weight', 'layer4.0.conv2.0.bn.bias', 'layer4.0.conv2.0.bn.running_mean', 'layer4.0.conv2.0.bn.running_var', 'layer4.0.conv2.0.bn.num_batches_tracked', 'layer4.0.conv3.conv.weight', 'layer4.0.conv3.bn.weight', 'layer4.0.conv3.bn.bias', 'layer4.0.conv3.bn.running_mean', 'layer4.0.conv3.bn.running_var', 'layer4.0.conv3.bn.num_batches_tracked', 'layer4.0.downsample.conv.weight', 'layer4.0.downsample.bn.weight', 'layer4.0.downsample.bn.bias', 'layer4.0.downsample.bn.running_mean', 'layer4.0.downsample.bn.running_var', 'layer4.0.downsample.bn.num_batches_tracked', 'layer4.1.conv1.conv.weight', 'layer4.1.conv1.bn.weight', 'layer4.1.conv1.bn.bias', 'layer4.1.conv1.bn.running_mean', 'layer4.1.conv1.bn.running_var', 'layer4.1.conv1.bn.num_batches_tracked', 'layer4.1.conv2.0.conv.weight', 'layer4.1.conv2.0.bn.weight', 'layer4.1.conv2.0.bn.bias', 'layer4.1.conv2.0.bn.running_mean', 'layer4.1.conv2.0.bn.running_var', 'layer4.1.conv2.0.bn.num_batches_tracked', 'layer4.1.conv3.conv.weight', 'layer4.1.conv3.bn.weight', 'layer4.1.conv3.bn.bias', 'layer4.1.conv3.bn.running_mean', 'layer4.1.conv3.bn.running_var', 'layer4.1.conv3.bn.num_batches_tracked', 'layer4.2.conv1.conv.weight', 'layer4.2.conv1.bn.weight', 'layer4.2.conv1.bn.bias', 'layer4.2.conv1.bn.running_mean', 'layer4.2.conv1.bn.running_var', 'layer4.2.conv1.bn.num_batches_tracked', 'layer4.2.conv2.0.conv.weight', 'layer4.2.conv2.0.bn.weight', 'layer4.2.conv2.0.bn.bias', 'layer4.2.conv2.0.bn.running_mean', 'layer4.2.conv2.0.bn.running_var', 'layer4.2.conv2.0.bn.num_batches_tracked', 'layer4.2.conv3.conv.weight', 'layer4.2.conv3.bn.weight', 'layer4.2.conv3.bn.bias', 'layer4.2.conv3.bn.running_mean', 'layer4.2.conv3.bn.running_var', 'layer4.2.conv3.bn.num_batches_tracked'])"
      ]
     },
     "execution_count": 18,
     "metadata": {},
     "output_type": "execute_result"
    }
   ],
   "source": [
    "trimmed_checkpoint.keys()"
   ]
  },
  {
   "cell_type": "markdown",
   "id": "c7bd13f4-3203-4e82-98d0-62e99fbc332b",
   "metadata": {},
   "source": [
    "# Save the Trimmed Checkpoint"
   ]
  },
  {
   "cell_type": "code",
   "execution_count": 19,
   "id": "368c7c3f-119a-45c1-b4e7-4894c090f8e3",
   "metadata": {},
   "outputs": [],
   "source": [
    "torch.save(trimmed_checkpoint, 'QCYiz.pth')"
   ]
  }
 ],
 "metadata": {
  "kernelspec": {
   "display_name": "scrambmix",
   "language": "python",
   "name": "scrambmix"
  },
  "language_info": {
   "codemirror_mode": {
    "name": "ipython",
    "version": 3
   },
   "file_extension": ".py",
   "mimetype": "text/x-python",
   "name": "python",
   "nbconvert_exporter": "python",
   "pygments_lexer": "ipython3",
   "version": "3.8.17"
  }
 },
 "nbformat": 4,
 "nbformat_minor": 5
}
